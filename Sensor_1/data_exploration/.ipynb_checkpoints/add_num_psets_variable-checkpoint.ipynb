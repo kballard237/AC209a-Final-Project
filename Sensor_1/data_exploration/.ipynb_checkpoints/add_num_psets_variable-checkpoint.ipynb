{
 "cells": [
  {
   "cell_type": "code",
   "execution_count": 12,
   "metadata": {},
   "outputs": [],
   "source": [
    "import pandas as pd\n",
    "import numpy as np\n",
    "from matplotlib import pyplot as plt"
   ]
  },
  {
   "cell_type": "code",
   "execution_count": 13,
   "metadata": {},
   "outputs": [],
   "source": [
    "df = pd.read_csv(\"all_sensor_data.csv\").drop(columns=['Unnamed: 0'])"
   ]
  },
  {
   "cell_type": "code",
   "execution_count": 14,
   "metadata": {},
   "outputs": [],
   "source": [
    "psets_due = {'Oct29':3,'Oct30':1,'Oct31':1,'Nov2':1,'Nov5':1,'Nov6':2,\n",
    "        'Nov7':1,'Nov8':1,'Nov9':1,'Nov13':1, 'Nov16':1,'Nov15':1,'Nov20':1,\n",
    "        'Nov21':1,'Nov23':1,'Nov26':1,'Nov30':1,'Dec3':2,'Dec4':1,'Dec5':1}\n",
    "\n",
    "calendar_day_Oct = ['Oct29', 'Oct30':1,'Oct31':1]\n",
    "calendar_day_Nov = ['Nov1','Nov2','Nov3','Nov6','Nov7','Nov8','Nov9','Nov10',\n",
    "                    'Nov11','Nov12','Nov13':1,'Nov14','Nov15', 'Nov16','Nov17',\n",
    "                    'Nov20','Nov21','Nov22','Nov18','Nov19','Nov26':1,'Nov27':1,\n",
    "                    'Nov28','Nov29']\n",
    "calendar_day_Dec = ['Dec1','Dec2','Dec3','Dec4','Dec5']"
   ]
  },
  {
   "cell_type": "code",
   "execution_count": 15,
   "metadata": {},
   "outputs": [
    {
     "name": "stderr",
     "output_type": "stream",
     "text": [
      "/Users/kaelanelson/anaconda/lib/python3.6/site-packages/ipykernel_launcher.py:11: FutureWarning: set_value is deprecated and will be removed in a future release. Please use .at[] or .iat[] accessors instead\n",
      "  # This is added back by InteractiveShellApp.init_path()\n"
     ]
    }
   ],
   "source": [
    "def add_psets(df_old):\n",
    "    df_old['num_psets_due'] = 0\n",
    "\n",
    "    month = [10,10,10,10,11,11,11,11,11,11,11,11,11,11,11,11,11,11,12,12,12]\n",
    "    day = [23,24,25,30,2,5,6,7,8,9,13,16,15,20,21,23,26,30,3,4,5]\n",
    "    num_psets = [3,1,1,2,1,1,2,1,1,1,1,1,1,1,1,1,1,1,2,1,1]\n",
    "\n",
    "    df = df_old.copy()\n",
    "    for m,d,p in zip(month, day, num_psets):\n",
    "        if df[(df['month']==m) & (df['day']==d)].shape[0] != 0:\n",
    "            df.set_value((df['month']==m) & (df['day']==d), 'num_psets_due', p)\n",
    "    \n",
    "    return df\n",
    "\n",
    "new_df = add_psets(df)"
   ]
  },
  {
   "cell_type": "code",
   "execution_count": 17,
   "metadata": {},
   "outputs": [],
   "source": [
    "new_df.to_csv(\"all_data.csv\")"
   ]
  },
  {
   "cell_type": "code",
   "execution_count": null,
   "metadata": {},
   "outputs": [],
   "source": []
  }
 ],
 "metadata": {
  "kernelspec": {
   "display_name": "Python 3",
   "language": "python",
   "name": "python3"
  },
  "language_info": {
   "codemirror_mode": {
    "name": "ipython",
    "version": 3
   },
   "file_extension": ".py",
   "mimetype": "text/x-python",
   "name": "python",
   "nbconvert_exporter": "python",
   "pygments_lexer": "ipython3",
   "version": "3.7.3"
  }
 },
 "nbformat": 4,
 "nbformat_minor": 2
}
