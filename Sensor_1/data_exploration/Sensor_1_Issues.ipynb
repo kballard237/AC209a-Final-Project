{
 "cells": [
  {
   "cell_type": "code",
   "execution_count": null,
   "metadata": {},
   "outputs": [],
   "source": [
    "import numpy as np\n",
    "import pandas as pd\n",
    "import os\n",
    "import datetime\n",
    "from matplotlib import pyplot as plt"
   ]
  },
  {
   "cell_type": "code",
   "execution_count": null,
   "metadata": {},
   "outputs": [],
   "source": [
    "def read_txt(filename):\n",
    "    save_ls = []\n",
    "    with open(filename, 'r') as file:\n",
    "        for line in file:\n",
    "            line = line.split(',')\n",
    "            for val in line:\n",
    "                save_ls.append(val)\n",
    "    return save_ls\n",
    "\n",
    "# read in sensor data\n",
    "data_1 = read_txt('../data_1/CS109a_motion.txt') \n",
    "data_2 = read_txt('../data_2/CS109a_motion.txt') \n",
    "data_3 = read_txt('../data_3/CS109a_motion.txt') \n",
    "data_4 = read_txt('../data_4/CS109a_motion.txt') \n",
    "data_5 = read_txt('../data_5/CS109a_motion.txt') \n",
    "data_6 = read_txt('../data_6/CS109a_motion.txt')\n",
    "data_7 = read_txt('../data_7/CS109a_motion.txt')\n",
    "data_8 = read_txt('../data_8/CS109a_motion.txt')\n",
    "m_9 = read_txt('../data_9/CS109a_motion.txt')\n",
    "m_10 = read_txt('../data_10/CS109a_motion.txt')\n",
    "m_11 = read_txt('../data_11/CS109a_motion.txt')"
   ]
  },
  {
   "cell_type": "code",
   "execution_count": null,
   "metadata": {},
   "outputs": [],
   "source": [
    "# check data length\n",
    "data_list = [data_1, data_2, data_3, data_4, data_5, data_6, data_7, data_8, data_9, data_10, data_11] \n",
    "\n",
    "for i in range(len(data_list)):\n",
    "    print(len(data_list[i]))"
   ]
  },
  {
   "cell_type": "code",
   "execution_count": null,
   "metadata": {},
   "outputs": [],
   "source": [
    "# generate start times (every 5 mins) from initial start dates\n",
    "dates_1 = datetime.datetime(2019, 10, 29, hour=22, minute=36)\n",
    "dates_2 = datetime.datetime(2019, 11, 1, hour=9, minute=14)\n",
    "dates_3 = datetime.datetime(2019, 11, 6, hour=20, minute=15)\n",
    "dates_4 = datetime.datetime(2019, 11, 8, hour=9, minute=5)\n",
    "dates_5 = datetime.datetime(2019, 11, 10, hour=13, minute=51)\n",
    "dates_6 = datetime.datetime(2019, 11, 13, hour=18, minute=45)\n",
    "dates_7 = datetime.datetime(2019, 11, 16, hour=20, minute=56)\n",
    "dates_8 = datetime.datetime(2019, 11, 19, hour=21, minute=57) \n",
    "dates_9 = datetime.datetime(2019, 11, 26, hour=19, minute=42)\n",
    "dates_10 = datetime.datetime(2019, 11, 29, hour=23, minute=1)\n",
    "dates_11 = datetime.datetime(2019, 12, 2, hour=23, minute=22)\n",
    "\n",
    "def compute_time_int(start_dt, m, freq):\n",
    "    dates = [start_dt]\n",
    "    for i in range(len(m)-1): \n",
    "        dates.append(dates[i] + datetime.timedelta(minutes=freq))\n",
    "    df = pd.DataFrame({'date': dates,'motion': m})\n",
    "    df.drop(df.tail(1).index,inplace=True)\n",
    "    return df\n",
    "    \n",
    "df0 = compute_time_int(dates_1, data_1, 1/60)\n",
    "df1 = compute_time_int(dates_2, data_2, 1/60)\n",
    "df2 = compute_time_int(dates_3, data_3, 1/60)\n",
    "df3 = compute_time_int(dates_4, data_4, 1/60)\n",
    "df4 = compute_time_int(dates_5, data_5, 1/60)\n",
    "df5 = compute_time_int(dates_6, data_6, 1/60)\n",
    "df6 = compute_time_int(dates_7, data_7, 1/60)\n",
    "df7 = compute_time_int(dates_8, data_8, 5)\n",
    "df8 = compute_time_int(dates_9, data_9, 1/60)\n",
    "df9 = compute_time_int(dates_10, data_10, 1/60)\n",
    "df10 = compute_time_int(dates_11, data_11, 1/60)\n",
    "# drop last empty row"
   ]
  },
  {
   "cell_type": "code",
   "execution_count": null,
   "metadata": {},
   "outputs": [],
   "source": [
    "df10.head()"
   ]
  },
  {
   "cell_type": "code",
   "execution_count": null,
   "metadata": {},
   "outputs": [],
   "source": [
    "def convert_to_float(dfs, feature):\n",
    "    for df in dfs:\n",
    "        df.light = [float(i) for i in df[feature]]\n",
    "\n",
    "def create_large_df(dfs, ls=None, fill_in=False):\n",
    "    if fill_in:\n",
    "        b0 = fill_in_dates(max(df0.date), min(df1.date))\n",
    "        b1 = fill_in_dates(max(df1.date), min(df2.date))\n",
    "        b2 = fill_in_dates(max(df2.date), min(df3.date))\n",
    "        b3 = fill_in_dates(max(df3.date), min(df4.date))\n",
    "\n",
    "    #     df01 = pd.DataFrame({'date': b1, 'light': float(l1[-2])*np.ones(len(b1))})\n",
    "        df11 = pd.DataFrame({'date': b1, 'light': float(l2[-2])*np.ones(len(b1))})\n",
    "        df21 = pd.DataFrame({'date': b2, 'light': float(l3[-2])*np.ones(len(b2))})\n",
    "        df31 = pd.DataFrame({'date': b3, 'light': float(l4[-2])*np.ones(len(b3))})\n",
    "\n",
    "        df = pd.concat(dfs, axis=0)\n",
    "    else:\n",
    "        \n",
    "        df = pd.concat(dfs, axis=0)\n",
    "    return df\n",
    "\n",
    "             \n",
    "def assign_numerical_date_vals(df):\n",
    "    df2 = df.copy()\n",
    "    \n",
    "    month = []\n",
    "    day = []\n",
    "    hour = []\n",
    "    minute = []\n",
    "    second = []\n",
    "    weekday = []\n",
    "    \n",
    "    for i,dt in enumerate(df2['date']):\n",
    "        month.append(dt.month)\n",
    "        day.append(dt.day)\n",
    "        hour.append(dt.hour)\n",
    "        minute.append(dt.minute)\n",
    "        second.append(dt.second)\n",
    "        weekday.append(dt.weekday())\n",
    "\n",
    "    df2['month'] = month\n",
    "    df2['day'] = day\n",
    "    df2['hour'] = hour\n",
    "    df2['minute'] = minute\n",
    "    df2['second'] = second\n",
    "    df2['weekday'] = weekday\n",
    "    return df2\n",
    "\n",
    "def get_day_labels(df):\n",
    "    days = df['day']\n",
    "    unique_days =list(np.unique(days))\n",
    "    indexes = np.unique(days, return_index=True)[1]\n",
    "    dates_in_order = [days.values[index] for index in sorted(indexes)]\n",
    "    return dates_in_order\n",
    "\n",
    "def calendar_plot(df, dates_in_order, feature):\n",
    "    fig, ax = plt.subplots(6,6, figsize=(18,15), sharey=True)\n",
    "    ax = ax.flatten()\n",
    "\n",
    "    for i,d in enumerate(dates_in_order):\n",
    "        temp = df[df['day'] == d]\n",
    "        ax[i].scatter(temp['hour'], temp[feature])\n",
    "        ax[i].set_title(\"Day {}\".format(d))\n",
    "    plt.suptitle(feature)\n",
    "    plt.xlabel(\"Hour\")\n",
    "    plt.ylabel(feature)\n",
    "    plt.show()"
   ]
  },
  {
   "cell_type": "code",
   "execution_count": null,
   "metadata": {},
   "outputs": [],
   "source": [
    "dfs = [df0, df1, df2, df3, df4, df5, df6, df7, df8, df9, df10] \n",
    "\n",
    "# convert light values to floats\n",
    "convert_to_float(dfs, 'motion')\n",
    "\n",
    "# create large df from all collection samples\n",
    "dfs_to_concat = dfs\n",
    "motion = create_large_df(dfs_to_concat)  \n",
    "\n",
    "# plot based on calendar day\n",
    "motion2 = assign_numerical_date_vals(motion)\n",
    "dates_in_order = get_day_labels(motion2)\n",
    "calendar_plot(motion2, dates_in_order, 'motion')\n"
   ]
  },
  {
   "cell_type": "code",
   "execution_count": null,
   "metadata": {},
   "outputs": [],
   "source": []
  },
  {
   "cell_type": "code",
   "execution_count": null,
   "metadata": {},
   "outputs": [],
   "source": [
    "motion_counts = [float(i) for i in motion2['motion'].values]\n",
    "motion2['motion_counts'] = motion_counts\n",
    "\n",
    "def ave_motion(x):\n",
    "    x['tot_motion_count'] = sum(x['motion_counts'])\n",
    "    return x\n",
    "\n",
    "motion3 = motion2.groupby(['month','day','hour']).apply(ave_motion)\n",
    "motion4 = motion3.drop(columns=['date', 'minute', 'second', 'motion_counts', 'motion'])"
   ]
  },
  {
   "cell_type": "code",
   "execution_count": null,
   "metadata": {},
   "outputs": [],
   "source": [
    "motion5 = motion4.drop_duplicates(subset=[\"month\",\"day\", 'hour'])"
   ]
  },
  {
   "cell_type": "code",
   "execution_count": null,
   "metadata": {},
   "outputs": [],
   "source": [
    "motion5.to_csv(\"motion_df.csv\")"
   ]
  },
  {
   "cell_type": "code",
   "execution_count": null,
   "metadata": {},
   "outputs": [],
   "source": [
    "motion5"
   ]
  },
  {
   "cell_type": "code",
   "execution_count": null,
   "metadata": {},
   "outputs": [],
   "source": []
  }
 ],
 "metadata": {
  "kernelspec": {
   "display_name": "Python 3",
   "language": "python",
   "name": "python3"
  },
  "language_info": {
   "codemirror_mode": {
    "name": "ipython",
    "version": 3
   },
   "file_extension": ".py",
   "mimetype": "text/x-python",
   "name": "python",
   "nbconvert_exporter": "python",
   "pygments_lexer": "ipython3",
   "version": "3.7.3"
  }
 },
 "nbformat": 4,
 "nbformat_minor": 2
}
