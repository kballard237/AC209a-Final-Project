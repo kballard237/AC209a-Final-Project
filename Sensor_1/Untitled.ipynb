{
 "cells": [
  {
   "cell_type": "code",
   "execution_count": null,
   "metadata": {},
   "outputs": [],
   "source": []
  },
  {
   "cell_type": "code",
   "execution_count": null,
   "metadata": {},
   "outputs": [],
   "source": [
    "def read_txt(filename):\n",
    "    \"\"\"\n",
    "    A function that opens text files and appends to list.\n",
    "    \n",
    "    Inputs:\n",
    "        filename: files to load\n",
    "    Outputs:\n",
    "        save_ls: list of files \n",
    "    \"\"\"\n",
    "    \n",
    "    save_ls = []\n",
    "    with open(filename, 'r') as file:\n",
    "        for line in file:\n",
    "            line = line.split(',')\n",
    "            for val in line:\n",
    "                save_ls.append(val)\n",
    "                \n",
    "    return save_ls\n",
    "\n",
    "###########################################################\n",
    "\n",
    "def load_data(path):\n",
    "    \"\"\"\n",
    "    A function that loads text files using read_text function and \n",
    "    changes list of entries to floats.\n",
    "    \n",
    "    Inputs:\n",
    "        path: files to open\n",
    "    Outputs:\n",
    "        data: list of data as floats\n",
    "    \"\"\"\n",
    "    \n",
    "    data = read_txt(path)\n",
    "    data = [float(data[i]) for i in range(len(data)-1)]\n",
    "    \n",
    "    return data"
   ]
  },
  {
   "cell_type": "code",
   "execution_count": null,
   "metadata": {},
   "outputs": [],
   "source": [
    "# Load data\n",
    "temp_1 = load_data('data_1\\CS109a_temperature.txt')\n",
    "temp_2 = load_data('data_2\\CS109a_temperature.txt')\n",
    "temp_3 = load_data('data_3\\CS109a_temperature.txt')\n",
    "temp_4 = load_data('data_4\\CS109a_temperature.txt')\n",
    "temp_5 = load_data('data_5\\CS109a_temperature.txt')\n",
    "temp_6 = load_data('data_6\\CS109a_temperature.txt')\n",
    "temp_7 = load_data('data_7\\CS109a_temperature.txt')\n",
    "temp_8 = load_data('data_8\\CS109a_temperature.txt')\n",
    "temp_9 = load_data('data_9\\CS109a_temperature.txt')\n",
    "temp_10 = load_data('data_10\\CS109a_temperature.txt')\n",
    "temp_11 = load_data('data_11\\CS109a_temperature.txt')\n",
    "\n",
    "\n"
   ]
  }
 ],
 "metadata": {
  "kernelspec": {
   "display_name": "Python 3",
   "language": "python",
   "name": "python3"
  },
  "language_info": {
   "codemirror_mode": {
    "name": "ipython",
    "version": 3
   },
   "file_extension": ".py",
   "mimetype": "text/x-python",
   "name": "python",
   "nbconvert_exporter": "python",
   "pygments_lexer": "ipython3",
   "version": "3.7.3"
  }
 },
 "nbformat": 4,
 "nbformat_minor": 2
}
