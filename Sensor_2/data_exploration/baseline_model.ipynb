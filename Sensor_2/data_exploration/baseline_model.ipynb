{
 "cells": [
  {
   "cell_type": "code",
   "execution_count": 1,
   "metadata": {},
   "outputs": [],
   "source": [
    "import pandas as pd\n",
    "import numpy as np\n",
    "from matplotlib import pyplot as plt\n",
    "from sklearn.metrics import r2_score\n",
    "from sklearn.neighbors import KNeighborsRegressor\n",
    "from sklearn.linear_model import LinearRegression\n",
    "from sklearn.model_selection import train_test_split\n",
    "from sklearn.linear_model import Ridge\n",
    "from sklearn.linear_model import Lasso"
   ]
  },
  {
   "cell_type": "markdown",
   "metadata": {},
   "source": [
    "## things to consider:\n",
    "- cross validation\n",
    "- scaling, normalizing\n",
    "- validation data set\n",
    "- confidence intervals\n",
    "- resampling"
   ]
  },
  {
   "cell_type": "code",
   "execution_count": 13,
   "metadata": {},
   "outputs": [],
   "source": [
    "df = pd.read_csv(\"all_data.csv\").drop(columns=['Unnamed: 0'])"
   ]
  },
  {
   "cell_type": "code",
   "execution_count": 14,
   "metadata": {},
   "outputs": [],
   "source": [
    "train_data, test_data = train_test_split(df, test_size=0.2)"
   ]
  },
  {
   "cell_type": "code",
   "execution_count": 15,
   "metadata": {},
   "outputs": [
    {
     "data": {
      "text/plain": [
       "Index(['day', 'hour', 'month', 'weekday', 'avg_hrly_hum', 'avg_hrly_temp',\n",
       "       'avg_hrly_press', 'tot_motion_count', 'avg_hrly_light',\n",
       "       'num_psets_due'],\n",
       "      dtype='object')"
      ]
     },
     "execution_count": 15,
     "metadata": {},
     "output_type": "execute_result"
    }
   ],
   "source": [
    "train_data.columns"
   ]
  },
  {
   "cell_type": "code",
   "execution_count": 49,
   "metadata": {},
   "outputs": [],
   "source": [
    "X_train = train_data.drop(columns=['avg_hrly_temp'])\n",
    "y_train = train_data['avg_hrly_temp']\n",
    "X_test = test_data.drop(columns=['avg_hrly_temp'])\n",
    "y_test = test_data['avg_hrly_temp']"
   ]
  },
  {
   "cell_type": "code",
   "execution_count": 50,
   "metadata": {},
   "outputs": [],
   "source": [
    "from sklearn import preprocessing\n",
    "from sklearn.preprocessing import StandardScaler\n",
    "\n",
    "def standardize(train_df, val_df):\n",
    "    # builtin standardscaler\n",
    "    \n",
    "    # fit on train df\n",
    "    scaler = StandardScaler(with_mean=True) # with mean=True also centers before scaling\n",
    "    scaler.fit(train_df)\n",
    "    \n",
    "    # transform train\n",
    "    train_scaled = scaler.transform(train_df)\n",
    "    scaled_train_df = pd.DataFrame(train_scaled, index=train_df.index, columns=train_df.columns)\n",
    "    \n",
    "    # transform val\n",
    "    val_scaled = scaler.transform(val_df)\n",
    "    scaled_val_df = pd.DataFrame(val_scaled, index=val_df.index, columns=val_df.columns)\n",
    "    \n",
    "    return scaled_train_df, scaled_val_df #, scaled_test_df"
   ]
  },
  {
   "cell_type": "code",
   "execution_count": 51,
   "metadata": {},
   "outputs": [],
   "source": [
    "X_train_scaled, X_test_scaled = standardize(X_train, X_test)"
   ]
  },
  {
   "cell_type": "code",
   "execution_count": 52,
   "metadata": {},
   "outputs": [
    {
     "data": {
      "text/html": [
       "<div>\n",
       "<style scoped>\n",
       "    .dataframe tbody tr th:only-of-type {\n",
       "        vertical-align: middle;\n",
       "    }\n",
       "\n",
       "    .dataframe tbody tr th {\n",
       "        vertical-align: top;\n",
       "    }\n",
       "\n",
       "    .dataframe thead th {\n",
       "        text-align: right;\n",
       "    }\n",
       "</style>\n",
       "<table border=\"1\" class=\"dataframe\">\n",
       "  <thead>\n",
       "    <tr style=\"text-align: right;\">\n",
       "      <th></th>\n",
       "      <th>day</th>\n",
       "      <th>hour</th>\n",
       "      <th>month</th>\n",
       "      <th>weekday</th>\n",
       "      <th>avg_hrly_hum</th>\n",
       "      <th>avg_hrly_press</th>\n",
       "      <th>tot_motion_count</th>\n",
       "      <th>avg_hrly_light</th>\n",
       "      <th>num_psets_due</th>\n",
       "    </tr>\n",
       "  </thead>\n",
       "  <tbody>\n",
       "    <tr>\n",
       "      <th>81</th>\n",
       "      <td>-1.504460</td>\n",
       "      <td>-0.804982</td>\n",
       "      <td>0.296538</td>\n",
       "      <td>1.042446</td>\n",
       "      <td>0.091329</td>\n",
       "      <td>0.538536</td>\n",
       "      <td>-0.166175</td>\n",
       "      <td>0.582927</td>\n",
       "      <td>-0.561141</td>\n",
       "    </tr>\n",
       "    <tr>\n",
       "      <th>356</th>\n",
       "      <td>-0.105395</td>\n",
       "      <td>-1.097503</td>\n",
       "      <td>0.296538</td>\n",
       "      <td>0.507136</td>\n",
       "      <td>-0.757700</td>\n",
       "      <td>0.414298</td>\n",
       "      <td>-0.467604</td>\n",
       "      <td>0.582927</td>\n",
       "      <td>1.079117</td>\n",
       "    </tr>\n",
       "    <tr>\n",
       "      <th>8</th>\n",
       "      <td>1.508910</td>\n",
       "      <td>-0.951242</td>\n",
       "      <td>-3.372253</td>\n",
       "      <td>-0.563484</td>\n",
       "      <td>1.996469</td>\n",
       "      <td>0.805544</td>\n",
       "      <td>-0.467604</td>\n",
       "      <td>0.582927</td>\n",
       "      <td>1.079117</td>\n",
       "    </tr>\n",
       "    <tr>\n",
       "      <th>641</th>\n",
       "      <td>1.401290</td>\n",
       "      <td>0.511362</td>\n",
       "      <td>0.296538</td>\n",
       "      <td>0.507136</td>\n",
       "      <td>-1.109737</td>\n",
       "      <td>-0.156793</td>\n",
       "      <td>-0.467604</td>\n",
       "      <td>0.582927</td>\n",
       "      <td>-0.561141</td>\n",
       "    </tr>\n",
       "    <tr>\n",
       "      <th>570</th>\n",
       "      <td>1.078429</td>\n",
       "      <td>0.657622</td>\n",
       "      <td>0.296538</td>\n",
       "      <td>-1.098794</td>\n",
       "      <td>0.546906</td>\n",
       "      <td>-0.554130</td>\n",
       "      <td>-0.467604</td>\n",
       "      <td>0.582927</td>\n",
       "      <td>1.079117</td>\n",
       "    </tr>\n",
       "    <tr>\n",
       "      <th>...</th>\n",
       "      <td>...</td>\n",
       "      <td>...</td>\n",
       "      <td>...</td>\n",
       "      <td>...</td>\n",
       "      <td>...</td>\n",
       "      <td>...</td>\n",
       "      <td>...</td>\n",
       "      <td>...</td>\n",
       "      <td>...</td>\n",
       "    </tr>\n",
       "    <tr>\n",
       "      <th>538</th>\n",
       "      <td>0.863188</td>\n",
       "      <td>-0.658722</td>\n",
       "      <td>0.296538</td>\n",
       "      <td>1.577755</td>\n",
       "      <td>-0.573398</td>\n",
       "      <td>-1.411212</td>\n",
       "      <td>-0.123113</td>\n",
       "      <td>0.497618</td>\n",
       "      <td>-0.561141</td>\n",
       "    </tr>\n",
       "    <tr>\n",
       "      <th>219</th>\n",
       "      <td>-0.858738</td>\n",
       "      <td>-0.512461</td>\n",
       "      <td>0.296538</td>\n",
       "      <td>0.507136</td>\n",
       "      <td>0.488924</td>\n",
       "      <td>0.908350</td>\n",
       "      <td>0.393623</td>\n",
       "      <td>-1.918999</td>\n",
       "      <td>1.079117</td>\n",
       "    </tr>\n",
       "    <tr>\n",
       "      <th>573</th>\n",
       "      <td>1.078429</td>\n",
       "      <td>1.096403</td>\n",
       "      <td>0.296538</td>\n",
       "      <td>-1.098794</td>\n",
       "      <td>0.406092</td>\n",
       "      <td>-0.300996</td>\n",
       "      <td>-0.467604</td>\n",
       "      <td>0.582927</td>\n",
       "      <td>1.079117</td>\n",
       "    </tr>\n",
       "    <tr>\n",
       "      <th>248</th>\n",
       "      <td>-0.751117</td>\n",
       "      <td>0.218841</td>\n",
       "      <td>0.296538</td>\n",
       "      <td>1.042446</td>\n",
       "      <td>0.625597</td>\n",
       "      <td>0.269908</td>\n",
       "      <td>-0.467604</td>\n",
       "      <td>0.582927</td>\n",
       "      <td>-0.561141</td>\n",
       "    </tr>\n",
       "    <tr>\n",
       "      <th>370</th>\n",
       "      <td>0.002225</td>\n",
       "      <td>-0.073680</td>\n",
       "      <td>0.296538</td>\n",
       "      <td>1.042446</td>\n",
       "      <td>-1.279542</td>\n",
       "      <td>1.544263</td>\n",
       "      <td>-0.467604</td>\n",
       "      <td>0.582927</td>\n",
       "      <td>-0.561141</td>\n",
       "    </tr>\n",
       "  </tbody>\n",
       "</table>\n",
       "<p>532 rows × 9 columns</p>\n",
       "</div>"
      ],
      "text/plain": [
       "          day      hour     month   weekday  avg_hrly_hum  avg_hrly_press  \\\n",
       "81  -1.504460 -0.804982  0.296538  1.042446      0.091329        0.538536   \n",
       "356 -0.105395 -1.097503  0.296538  0.507136     -0.757700        0.414298   \n",
       "8    1.508910 -0.951242 -3.372253 -0.563484      1.996469        0.805544   \n",
       "641  1.401290  0.511362  0.296538  0.507136     -1.109737       -0.156793   \n",
       "570  1.078429  0.657622  0.296538 -1.098794      0.546906       -0.554130   \n",
       "..        ...       ...       ...       ...           ...             ...   \n",
       "538  0.863188 -0.658722  0.296538  1.577755     -0.573398       -1.411212   \n",
       "219 -0.858738 -0.512461  0.296538  0.507136      0.488924        0.908350   \n",
       "573  1.078429  1.096403  0.296538 -1.098794      0.406092       -0.300996   \n",
       "248 -0.751117  0.218841  0.296538  1.042446      0.625597        0.269908   \n",
       "370  0.002225 -0.073680  0.296538  1.042446     -1.279542        1.544263   \n",
       "\n",
       "     tot_motion_count  avg_hrly_light  num_psets_due  \n",
       "81          -0.166175        0.582927      -0.561141  \n",
       "356         -0.467604        0.582927       1.079117  \n",
       "8           -0.467604        0.582927       1.079117  \n",
       "641         -0.467604        0.582927      -0.561141  \n",
       "570         -0.467604        0.582927       1.079117  \n",
       "..                ...             ...            ...  \n",
       "538         -0.123113        0.497618      -0.561141  \n",
       "219          0.393623       -1.918999       1.079117  \n",
       "573         -0.467604        0.582927       1.079117  \n",
       "248         -0.467604        0.582927      -0.561141  \n",
       "370         -0.467604        0.582927      -0.561141  \n",
       "\n",
       "[532 rows x 9 columns]"
      ]
     },
     "execution_count": 52,
     "metadata": {},
     "output_type": "execute_result"
    }
   ],
   "source": [
    "X_train_scaled"
   ]
  },
  {
   "cell_type": "markdown",
   "metadata": {},
   "source": [
    "Linear Regression"
   ]
  },
  {
   "cell_type": "code",
   "execution_count": 53,
   "metadata": {},
   "outputs": [
    {
     "data": {
      "text/plain": [
       "0.722757259789379"
      ]
     },
     "execution_count": 53,
     "metadata": {},
     "output_type": "execute_result"
    }
   ],
   "source": [
    "model = LinearRegression().fit(X_train, y_train)\n",
    "model.score(X_train, y_train)"
   ]
  },
  {
   "cell_type": "markdown",
   "metadata": {},
   "source": [
    "Ridge Regression"
   ]
  },
  {
   "cell_type": "code",
   "execution_count": 54,
   "metadata": {},
   "outputs": [
    {
     "data": {
      "text/plain": [
       "0.7227572595575527"
      ]
     },
     "execution_count": 54,
     "metadata": {},
     "output_type": "execute_result"
    }
   ],
   "source": [
    "clf = Ridge(alpha=0.01)\n",
    "clf.fit(X_train, y_train)\n",
    "clf.score(X_train, y_train)"
   ]
  },
  {
   "cell_type": "markdown",
   "metadata": {},
   "source": [
    "Lasso Regression"
   ]
  },
  {
   "cell_type": "code",
   "execution_count": 55,
   "metadata": {},
   "outputs": [
    {
     "name": "stdout",
     "output_type": "stream",
     "text": [
      "0.7174109906092734\n"
     ]
    }
   ],
   "source": [
    "# lambdas = [0.01, 0.05, 0.1, 5, 10, 50, 100]\n",
    "# , alphas=lam, max_iter=100000\n",
    "# for lam in lambdas:\n",
    "lasso = Lasso().fit(X_train, y_train)\n",
    "print(lasso.score(X_train, y_train))"
   ]
  },
  {
   "cell_type": "markdown",
   "metadata": {},
   "source": [
    "Logistic Regression"
   ]
  },
  {
   "cell_type": "code",
   "execution_count": null,
   "metadata": {},
   "outputs": [],
   "source": []
  }
 ],
 "metadata": {
  "kernelspec": {
   "display_name": "Python 3",
   "language": "python",
   "name": "python3"
  },
  "language_info": {
   "codemirror_mode": {
    "name": "ipython",
    "version": 3
   },
   "file_extension": ".py",
   "mimetype": "text/x-python",
   "name": "python",
   "nbconvert_exporter": "python",
   "pygments_lexer": "ipython3",
   "version": "3.6.9"
  }
 },
 "nbformat": 4,
 "nbformat_minor": 2
}
