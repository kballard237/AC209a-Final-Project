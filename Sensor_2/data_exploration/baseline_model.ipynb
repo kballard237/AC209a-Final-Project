{
 "cells": [
  {
   "cell_type": "code",
   "execution_count": 153,
   "metadata": {},
   "outputs": [],
   "source": [
    "import pandas as pd\n",
    "import numpy as np\n",
    "from matplotlib import pyplot as plt\n",
    "from sklearn.metrics import r2_score\n",
    "from sklearn.neighbors import KNeighborsRegressor\n",
    "from sklearn.linear_model import LinearRegression\n",
    "from sklearn.linear_model import LogisticRegression\n",
    "from sklearn.model_selection import train_test_split\n",
    "from sklearn.linear_model import Ridge\n",
    "from sklearn.linear_model import Lasso"
   ]
  },
  {
   "cell_type": "markdown",
   "metadata": {},
   "source": [
    "## things to consider:\n",
    "- cross validation\n",
    "- scaling, normalizing\n",
    "- validation data set\n",
    "- confidence intervals\n",
    "- resampling\n",
    "- compute ttests\n",
    "- find best predictors"
   ]
  },
  {
   "cell_type": "code",
   "execution_count": 154,
   "metadata": {},
   "outputs": [],
   "source": [
    "df = pd.read_csv(\"all_data.csv\").drop(columns=['Unnamed: 0'])"
   ]
  },
  {
   "cell_type": "code",
   "execution_count": 155,
   "metadata": {},
   "outputs": [],
   "source": [
    "light_status = []\n",
    "for i in range(df.shape[0]):\n",
    "    if df.loc[i,'avg_hrly_light'] == 4095.:\n",
    "        light_status.append(0)\n",
    "    else:\n",
    "        light_status.append(1)\n"
   ]
  },
  {
   "cell_type": "code",
   "execution_count": 157,
   "metadata": {},
   "outputs": [],
   "source": [
    "df['light_status'] = light_status"
   ]
  },
  {
   "cell_type": "code",
   "execution_count": 158,
   "metadata": {},
   "outputs": [],
   "source": [
    "train_data, test_data = train_test_split(df, test_size=0.2)"
   ]
  },
  {
   "cell_type": "code",
   "execution_count": 159,
   "metadata": {},
   "outputs": [
    {
     "data": {
      "text/plain": [
       "Index(['day', 'hour', 'month', 'weekday', 'avg_hrly_hum', 'avg_hrly_temp',\n",
       "       'avg_hrly_press', 'tot_motion_count', 'avg_hrly_light', 'num_psets_due',\n",
       "       'light_status'],\n",
       "      dtype='object')"
      ]
     },
     "execution_count": 159,
     "metadata": {},
     "output_type": "execute_result"
    }
   ],
   "source": [
    "train_data.columns"
   ]
  },
  {
   "cell_type": "code",
   "execution_count": 160,
   "metadata": {},
   "outputs": [],
   "source": [
    "X_train = train_data.drop(columns=['light_status','avg_hrly_light'])\n",
    "y_train = train_data['light_status']\n",
    "X_test = test_data.drop(columns=['light_status', 'avg_hrly_light'])\n",
    "y_test = test_data['light_status']"
   ]
  },
  {
   "cell_type": "code",
   "execution_count": 161,
   "metadata": {},
   "outputs": [],
   "source": [
    "from sklearn import preprocessing\n",
    "from sklearn.preprocessing import StandardScaler\n",
    "\n",
    "def standardize(train_df, val_df):\n",
    "    # builtin standardscaler\n",
    "    \n",
    "    # fit on train df\n",
    "    scaler = StandardScaler(with_mean=True) # with mean=True also centers before scaling\n",
    "    scaler.fit(train_df)\n",
    "    \n",
    "    # transform train\n",
    "    train_scaled = scaler.transform(train_df)\n",
    "    scaled_train_df = pd.DataFrame(train_scaled, index=train_df.index, columns=train_df.columns)\n",
    "    \n",
    "    # transform val\n",
    "    val_scaled = scaler.transform(val_df)\n",
    "    scaled_val_df = pd.DataFrame(val_scaled, index=val_df.index, columns=val_df.columns)\n",
    "    \n",
    "    return scaled_train_df, scaled_val_df #, scaled_test_df"
   ]
  },
  {
   "cell_type": "code",
   "execution_count": 162,
   "metadata": {},
   "outputs": [],
   "source": [
    "X_train_scaled, X_test_scaled = standardize(X_train, X_test)"
   ]
  },
  {
   "cell_type": "code",
   "execution_count": 163,
   "metadata": {},
   "outputs": [
    {
     "data": {
      "text/html": [
       "<div>\n",
       "<style scoped>\n",
       "    .dataframe tbody tr th:only-of-type {\n",
       "        vertical-align: middle;\n",
       "    }\n",
       "\n",
       "    .dataframe tbody tr th {\n",
       "        vertical-align: top;\n",
       "    }\n",
       "\n",
       "    .dataframe thead th {\n",
       "        text-align: right;\n",
       "    }\n",
       "</style>\n",
       "<table border=\"1\" class=\"dataframe\">\n",
       "  <thead>\n",
       "    <tr style=\"text-align: right;\">\n",
       "      <th></th>\n",
       "      <th>day</th>\n",
       "      <th>hour</th>\n",
       "      <th>month</th>\n",
       "      <th>weekday</th>\n",
       "      <th>avg_hrly_hum</th>\n",
       "      <th>avg_hrly_temp</th>\n",
       "      <th>avg_hrly_press</th>\n",
       "      <th>tot_motion_count</th>\n",
       "      <th>num_psets_due</th>\n",
       "    </tr>\n",
       "  </thead>\n",
       "  <tbody>\n",
       "    <tr>\n",
       "      <th>11</th>\n",
       "      <td>1.579673</td>\n",
       "      <td>-0.518307</td>\n",
       "      <td>-2.339563</td>\n",
       "      <td>-0.519077</td>\n",
       "      <td>2.079974</td>\n",
       "      <td>1.521010</td>\n",
       "      <td>1.022826</td>\n",
       "      <td>-0.229336</td>\n",
       "      <td>1.027062</td>\n",
       "    </tr>\n",
       "    <tr>\n",
       "      <th>718</th>\n",
       "      <td>-1.104911</td>\n",
       "      <td>0.063452</td>\n",
       "      <td>2.059247</td>\n",
       "      <td>-0.519077</td>\n",
       "      <td>-0.541383</td>\n",
       "      <td>-1.222996</td>\n",
       "      <td>-1.682203</td>\n",
       "      <td>-0.472205</td>\n",
       "      <td>1.027062</td>\n",
       "    </tr>\n",
       "    <tr>\n",
       "      <th>111</th>\n",
       "      <td>-1.208164</td>\n",
       "      <td>1.226968</td>\n",
       "      <td>-0.140158</td>\n",
       "      <td>1.683178</td>\n",
       "      <td>1.194729</td>\n",
       "      <td>1.886878</td>\n",
       "      <td>0.485793</td>\n",
       "      <td>1.786473</td>\n",
       "      <td>-0.644645</td>\n",
       "    </tr>\n",
       "    <tr>\n",
       "      <th>653</th>\n",
       "      <td>1.579673</td>\n",
       "      <td>-1.245505</td>\n",
       "      <td>-0.140158</td>\n",
       "      <td>1.132614</td>\n",
       "      <td>-1.220358</td>\n",
       "      <td>-1.487233</td>\n",
       "      <td>-0.107353</td>\n",
       "      <td>-0.472205</td>\n",
       "      <td>-0.644645</td>\n",
       "    </tr>\n",
       "    <tr>\n",
       "      <th>46</th>\n",
       "      <td>1.682926</td>\n",
       "      <td>1.081529</td>\n",
       "      <td>-2.339563</td>\n",
       "      <td>0.031486</td>\n",
       "      <td>2.449542</td>\n",
       "      <td>1.683618</td>\n",
       "      <td>-0.886118</td>\n",
       "      <td>-0.472205</td>\n",
       "      <td>-0.644645</td>\n",
       "    </tr>\n",
       "    <tr>\n",
       "      <th>...</th>\n",
       "      <td>...</td>\n",
       "      <td>...</td>\n",
       "      <td>...</td>\n",
       "      <td>...</td>\n",
       "      <td>...</td>\n",
       "      <td>...</td>\n",
       "      <td>...</td>\n",
       "      <td>...</td>\n",
       "      <td>...</td>\n",
       "    </tr>\n",
       "    <tr>\n",
       "      <th>302</th>\n",
       "      <td>-0.278885</td>\n",
       "      <td>1.517847</td>\n",
       "      <td>-0.140158</td>\n",
       "      <td>-1.069641</td>\n",
       "      <td>-1.108628</td>\n",
       "      <td>-0.206697</td>\n",
       "      <td>-0.024041</td>\n",
       "      <td>-0.472205</td>\n",
       "      <td>-0.644645</td>\n",
       "    </tr>\n",
       "    <tr>\n",
       "      <th>8</th>\n",
       "      <td>1.579673</td>\n",
       "      <td>-0.954625</td>\n",
       "      <td>-2.339563</td>\n",
       "      <td>-0.519077</td>\n",
       "      <td>2.165920</td>\n",
       "      <td>1.277098</td>\n",
       "      <td>0.920436</td>\n",
       "      <td>-0.472205</td>\n",
       "      <td>1.027062</td>\n",
       "    </tr>\n",
       "    <tr>\n",
       "      <th>61</th>\n",
       "      <td>-1.414670</td>\n",
       "      <td>-0.227428</td>\n",
       "      <td>-0.140158</td>\n",
       "      <td>0.582050</td>\n",
       "      <td>1.345134</td>\n",
       "      <td>1.439706</td>\n",
       "      <td>-0.555078</td>\n",
       "      <td>0.329262</td>\n",
       "      <td>-0.644645</td>\n",
       "    </tr>\n",
       "    <tr>\n",
       "      <th>431</th>\n",
       "      <td>0.443888</td>\n",
       "      <td>-1.681823</td>\n",
       "      <td>-0.140158</td>\n",
       "      <td>-1.069641</td>\n",
       "      <td>-0.923844</td>\n",
       "      <td>-1.101040</td>\n",
       "      <td>0.836674</td>\n",
       "      <td>-0.472205</td>\n",
       "      <td>-0.644645</td>\n",
       "    </tr>\n",
       "    <tr>\n",
       "      <th>352</th>\n",
       "      <td>0.030875</td>\n",
       "      <td>-1.681823</td>\n",
       "      <td>-0.140158</td>\n",
       "      <td>0.582050</td>\n",
       "      <td>-0.498410</td>\n",
       "      <td>-0.308327</td>\n",
       "      <td>0.707364</td>\n",
       "      <td>0.402122</td>\n",
       "      <td>1.027062</td>\n",
       "    </tr>\n",
       "  </tbody>\n",
       "</table>\n",
       "<p>612 rows × 9 columns</p>\n",
       "</div>"
      ],
      "text/plain": [
       "          day      hour     month   weekday  avg_hrly_hum  avg_hrly_temp  \\\n",
       "11   1.579673 -0.518307 -2.339563 -0.519077      2.079974       1.521010   \n",
       "718 -1.104911  0.063452  2.059247 -0.519077     -0.541383      -1.222996   \n",
       "111 -1.208164  1.226968 -0.140158  1.683178      1.194729       1.886878   \n",
       "653  1.579673 -1.245505 -0.140158  1.132614     -1.220358      -1.487233   \n",
       "46   1.682926  1.081529 -2.339563  0.031486      2.449542       1.683618   \n",
       "..        ...       ...       ...       ...           ...            ...   \n",
       "302 -0.278885  1.517847 -0.140158 -1.069641     -1.108628      -0.206697   \n",
       "8    1.579673 -0.954625 -2.339563 -0.519077      2.165920       1.277098   \n",
       "61  -1.414670 -0.227428 -0.140158  0.582050      1.345134       1.439706   \n",
       "431  0.443888 -1.681823 -0.140158 -1.069641     -0.923844      -1.101040   \n",
       "352  0.030875 -1.681823 -0.140158  0.582050     -0.498410      -0.308327   \n",
       "\n",
       "     avg_hrly_press  tot_motion_count  num_psets_due  \n",
       "11         1.022826         -0.229336       1.027062  \n",
       "718       -1.682203         -0.472205       1.027062  \n",
       "111        0.485793          1.786473      -0.644645  \n",
       "653       -0.107353         -0.472205      -0.644645  \n",
       "46        -0.886118         -0.472205      -0.644645  \n",
       "..              ...               ...            ...  \n",
       "302       -0.024041         -0.472205      -0.644645  \n",
       "8          0.920436         -0.472205       1.027062  \n",
       "61        -0.555078          0.329262      -0.644645  \n",
       "431        0.836674         -0.472205      -0.644645  \n",
       "352        0.707364          0.402122       1.027062  \n",
       "\n",
       "[612 rows x 9 columns]"
      ]
     },
     "execution_count": 163,
     "metadata": {},
     "output_type": "execute_result"
    }
   ],
   "source": [
    "X_train_scaled"
   ]
  },
  {
   "cell_type": "markdown",
   "metadata": {},
   "source": [
    "Linear Regression"
   ]
  },
  {
   "cell_type": "code",
   "execution_count": 164,
   "metadata": {},
   "outputs": [
    {
     "name": "stdout",
     "output_type": "stream",
     "text": [
      "0.4704062738615715\n",
      "0.3455900383831365\n"
     ]
    }
   ],
   "source": [
    "model = LinearRegression().fit(X_train, y_train)\n",
    "print(model.score(X_train, y_train))\n",
    "print(model.score(X_test, y_test))\n",
    "lin_pred_train = model.predict(X_train)\n",
    "lin_pred_test = model.predict(X_test)"
   ]
  },
  {
   "cell_type": "markdown",
   "metadata": {},
   "source": [
    "Ridge Regression"
   ]
  },
  {
   "cell_type": "code",
   "execution_count": 165,
   "metadata": {},
   "outputs": [
    {
     "name": "stdout",
     "output_type": "stream",
     "text": [
      "0.4704062733284604\n",
      "0.3455866368639784\n"
     ]
    }
   ],
   "source": [
    "clf = Ridge(alpha=0.01)\n",
    "clf.fit(X_train, y_train)\n",
    "print(clf.score(X_train, y_train))\n",
    "print(clf.score(X_test, y_test))"
   ]
  },
  {
   "cell_type": "markdown",
   "metadata": {},
   "source": [
    "Lasso Regression"
   ]
  },
  {
   "cell_type": "code",
   "execution_count": 166,
   "metadata": {},
   "outputs": [
    {
     "name": "stdout",
     "output_type": "stream",
     "text": [
      "0.3960430157039009\n",
      "0.29463072921074984\n"
     ]
    }
   ],
   "source": [
    "# lambdas = [0.01, 0.05, 0.1, 5, 10, 50, 100]\n",
    "# , alphas=lam, max_iter=100000\n",
    "# for lam in lambdas:\n",
    "lasso = Lasso().fit(X_train, y_train)\n",
    "print(lasso.score(X_train, y_train))\n",
    "print(lasso.score(X_test, y_test))"
   ]
  },
  {
   "cell_type": "markdown",
   "metadata": {},
   "source": [
    "Can try other models for classifying later ... if want to look at a different problem"
   ]
  },
  {
   "cell_type": "markdown",
   "metadata": {},
   "source": [
    "Logistic Regression\n",
    "\n",
    "- could look at misclassification rate for logistic vs linear"
   ]
  },
  {
   "cell_type": "code",
   "execution_count": 173,
   "metadata": {},
   "outputs": [
    {
     "name": "stdout",
     "output_type": "stream",
     "text": [
      "0.9199346405228758\n",
      "0.922077922077922\n"
     ]
    }
   ],
   "source": [
    "logreg = LogisticRegression(solver = 'lbfgs').fit(X_train, y_train)\n",
    "print(logreg.score(X_train, y_train))\n",
    "print(logreg.score(X_test, y_test))\n",
    "log_pred_train = logreg.predict_proba(X_train)\n",
    "log_pred_test = logreg.predict_proba(X_test)"
   ]
  },
  {
   "cell_type": "code",
   "execution_count": 186,
   "metadata": {},
   "outputs": [
    {
     "data": {
      "text/plain": [
       "((612, 9), (154, 9))"
      ]
     },
     "execution_count": 186,
     "metadata": {},
     "output_type": "execute_result"
    }
   ],
   "source": [
    "X_train.shape, X_test.shape"
   ]
  },
  {
   "cell_type": "code",
   "execution_count": 183,
   "metadata": {},
   "outputs": [
    {
     "data": {
      "image/png": "[encoded data removed]",
      "text/plain": [
       "<Figure size 432x288 with 1 Axes>"
      ]
     },
     "metadata": {
      "needs_background": "light"
     },
     "output_type": "display_data"
    }
   ],
   "source": [
    "plt.scatter(np.arange(X_train.shape[0]), y_train)\n",
    "plt.scatter(np.arange(X_train.shape[0]), np.sort(log_pred_train[:,0]))\n",
    "plt.show()"
   ]
  },
  {
   "cell_type": "code",
   "execution_count": 189,
   "metadata": {},
   "outputs": [
    {
     "data": {
      "image/png": "[encoded data removed]",
      "text/plain": [
       "<Figure size 432x288 with 1 Axes>"
      ]
     },
     "metadata": {
      "needs_background": "light"
     },
     "output_type": "display_data"
    }
   ],
   "source": [
    "plt.scatter(np.arange(X_test.shape[0]), y_test)\n",
    "plt.scatter(np.arange(X_test.shape[0]), np.sort(log_pred_test[:,0]))\n",
    "plt.show()"
   ]
  },
  {
   "cell_type": "code",
   "execution_count": 169,
   "metadata": {},
   "outputs": [
    {
     "data": {
      "text/plain": [
       "((612, 9), (612,))"
      ]
     },
     "execution_count": 169,
     "metadata": {},
     "output_type": "execute_result"
    }
   ],
   "source": [
    "X_train.shape, y_train.shape"
   ]
  },
  {
   "cell_type": "code",
   "execution_count": 152,
   "metadata": {},
   "outputs": [
    {
     "ename": "AttributeError",
     "evalue": "'Series' object has no attribute 'reshape'",
     "output_type": "error",
     "traceback": [
      "\u001b[0;31m---------------------------------------------------------------------------\u001b[0m",
      "\u001b[0;31mAttributeError\u001b[0m                            Traceback (most recent call last)",
      "\u001b[0;32m<ipython-input-152-ce280e056df3>\u001b[0m in \u001b[0;36m<module>\u001b[0;34m\u001b[0m\n\u001b[1;32m      7\u001b[0m \u001b[0;34m\u001b[0m\u001b[0m\n\u001b[1;32m      8\u001b[0m \u001b[0;31m# train\u001b[0m\u001b[0;34m\u001b[0m\u001b[0;34m\u001b[0m\u001b[0;34m\u001b[0m\u001b[0m\n\u001b[0;32m----> 9\u001b[0;31m \u001b[0maxes\u001b[0m\u001b[0;34m[\u001b[0m\u001b[0;36m0\u001b[0m\u001b[0;34m]\u001b[0m\u001b[0;34m.\u001b[0m\u001b[0mscatter\u001b[0m\u001b[0;34m(\u001b[0m\u001b[0mX_train\u001b[0m\u001b[0;34m,\u001b[0m\u001b[0my_train\u001b[0m\u001b[0;34m.\u001b[0m\u001b[0mreshape\u001b[0m\u001b[0;34m(\u001b[0m\u001b[0;34m-\u001b[0m\u001b[0;36m1\u001b[0m\u001b[0;34m,\u001b[0m\u001b[0;36m1\u001b[0m\u001b[0;34m)\u001b[0m\u001b[0;34m,\u001b[0m \u001b[0mlabel\u001b[0m\u001b[0;34m=\u001b[0m\u001b[0;34m\"True Light Status\"\u001b[0m\u001b[0;34m,\u001b[0m \u001b[0malpha\u001b[0m\u001b[0;34m=\u001b[0m\u001b[0;36m0.5\u001b[0m\u001b[0;34m)\u001b[0m\u001b[0;34m\u001b[0m\u001b[0;34m\u001b[0m\u001b[0m\n\u001b[0m\u001b[1;32m     10\u001b[0m \u001b[0maxes\u001b[0m\u001b[0;34m[\u001b[0m\u001b[0;36m0\u001b[0m\u001b[0;34m]\u001b[0m\u001b[0;34m.\u001b[0m\u001b[0mplot\u001b[0m\u001b[0;34m(\u001b[0m\u001b[0mX_train\u001b[0m\u001b[0;34m,\u001b[0m \u001b[0mlin_train_pred\u001b[0m\u001b[0;34m,\u001b[0m \u001b[0mlabel\u001b[0m\u001b[0;34m=\u001b[0m\u001b[0;34m\"linear regression\"\u001b[0m\u001b[0;34m,\u001b[0m \u001b[0mc\u001b[0m\u001b[0;34m=\u001b[0m\u001b[0;34m\"g\"\u001b[0m\u001b[0;34m)\u001b[0m\u001b[0;34m\u001b[0m\u001b[0;34m\u001b[0m\u001b[0m\n\u001b[1;32m     11\u001b[0m \u001b[0;31m# axes[0].scatter(best_predictor_train, y_train_pred2[:,0], label=\"logistic regression, class 0\", alpha=0.7, c=\"red\")\u001b[0m\u001b[0;34m\u001b[0m\u001b[0;34m\u001b[0m\u001b[0;34m\u001b[0m\u001b[0m\n",
      "\u001b[0;32m~/anaconda/lib/python3.6/site-packages/pandas/core/generic.py\u001b[0m in \u001b[0;36m__getattr__\u001b[0;34m(self, name)\u001b[0m\n\u001b[1;32m   5177\u001b[0m             \u001b[0;32mif\u001b[0m \u001b[0mself\u001b[0m\u001b[0;34m.\u001b[0m\u001b[0m_info_axis\u001b[0m\u001b[0;34m.\u001b[0m\u001b[0m_can_hold_identifiers_and_holds_name\u001b[0m\u001b[0;34m(\u001b[0m\u001b[0mname\u001b[0m\u001b[0;34m)\u001b[0m\u001b[0;34m:\u001b[0m\u001b[0;34m\u001b[0m\u001b[0;34m\u001b[0m\u001b[0m\n\u001b[1;32m   5178\u001b[0m                 \u001b[0;32mreturn\u001b[0m \u001b[0mself\u001b[0m\u001b[0;34m[\u001b[0m\u001b[0mname\u001b[0m\u001b[0;34m]\u001b[0m\u001b[0;34m\u001b[0m\u001b[0;34m\u001b[0m\u001b[0m\n\u001b[0;32m-> 5179\u001b[0;31m             \u001b[0;32mreturn\u001b[0m \u001b[0mobject\u001b[0m\u001b[0;34m.\u001b[0m\u001b[0m__getattribute__\u001b[0m\u001b[0;34m(\u001b[0m\u001b[0mself\u001b[0m\u001b[0;34m,\u001b[0m \u001b[0mname\u001b[0m\u001b[0;34m)\u001b[0m\u001b[0;34m\u001b[0m\u001b[0;34m\u001b[0m\u001b[0m\n\u001b[0m\u001b[1;32m   5180\u001b[0m \u001b[0;34m\u001b[0m\u001b[0m\n\u001b[1;32m   5181\u001b[0m     \u001b[0;32mdef\u001b[0m \u001b[0m__setattr__\u001b[0m\u001b[0;34m(\u001b[0m\u001b[0mself\u001b[0m\u001b[0;34m,\u001b[0m \u001b[0mname\u001b[0m\u001b[0;34m,\u001b[0m \u001b[0mvalue\u001b[0m\u001b[0;34m)\u001b[0m\u001b[0;34m:\u001b[0m\u001b[0;34m\u001b[0m\u001b[0;34m\u001b[0m\u001b[0m\n",
      "\u001b[0;31mAttributeError\u001b[0m: 'Series' object has no attribute 'reshape'"
     ]
    },
    {
     "data": {
      "image/png": "[encoded data removed]",
      "text/plain": [
       "<Figure size 1440x504 with 2 Axes>"
      ]
     },
     "metadata": {
      "needs_background": "light"
     },
     "output_type": "display_data"
    }
   ],
   "source": [
    "# lin_train_pred = pd.DataFrame({\"X\": best_predictor_train, \"Pred\": y_train_pred}).sort_values(\"Pred\")\n",
    "# lin_test_pred = pd.DataFrame({\"X\": best_predictor_test, \"Pred\": y_test_pred}).sort_values(\"Pred\")\n",
    "\n",
    "fig, axes = plt.subplots(1,2,figsize=(20,7))\n",
    "fig.suptitle(\"Light Status Predictions\", fontsize=20)\n",
    "axes.ravel()\n",
    "\n",
    "# train \n",
    "axes[0].scatter(X_train,y_train, label=\"True Light Status\", alpha=0.5)\n",
    "axes[0].plot(X_train, lin_train_pred, label=\"linear regression\", c=\"g\")\n",
    "# axes[0].scatter(best_predictor_train, y_train_pred2[:,0], label=\"logistic regression, class 0\", alpha=0.7, c=\"red\")\n",
    "axes[0].scatter(X_train, log_pred_train, label=\"logistic regression\", alpha=0.7, c=\"m\")\n",
    "axes[0].plot(best_predictor_train, [0.5]*best_predictor_train.shape[0], label=\"y=0.5\", c=\"black\")\n",
    "axes[0].legend()\n",
    "axes[0].set_title(\"Train Data\")\n",
    "axes[0].set_xlabel(\"Best Gene Predictor\")\n",
    "axes[0].set_ylabel(\"Predicted Values\")\n",
    "axes[0].grid(False)\n",
    "\n",
    "# test\n",
    "# axes[1].scatter(best_predictor_test,y_test, label=\"True binary Response\", alpha=0.5)\n",
    "# axes[1].plot(lin_test_pred.X, lin_test_pred.Pred, label=\"linear regression\", c=\"g\")\n",
    "# # axes[1].scatter(best_predictor_test, y_test_pred2[:,0], label=\"logistic regression, class 0\", alpha=0.7, c=\"red\")\n",
    "# axes[1].scatter(best_predictor_test, y_test_pred2[:,1], label=\"logistic regression, class 1\", alpha=0.7, c=\"m\")\n",
    "# axes[1].plot(best_predictor_test, [0.5]*best_predictor_test.shape[0], label=\"y=0.5\", c=\"black\")\n",
    "# axes[1].legend()\n",
    "# axes[1].set_title(\"Test Data\")\n",
    "# axes[1].set_xlabel(\"Best Gene Predictor\")\n",
    "# axes[1].set_ylabel(\"Predicted Values\")\n",
    "# axes[1].grid(False)\n",
    "# plt.show()\n",
    "# plot predict prob a"
   ]
  },
  {
   "cell_type": "code",
   "execution_count": null,
   "metadata": {},
   "outputs": [],
   "source": []
  }
 ],
 "metadata": {
  "kernelspec": {
   "display_name": "Python 3",
   "language": "python",
   "name": "python3"
  },
  "language_info": {
   "codemirror_mode": {
    "name": "ipython",
    "version": 3
   },
   "file_extension": ".py",
   "mimetype": "text/x-python",
   "name": "python",
   "nbconvert_exporter": "python",
   "pygments_lexer": "ipython3",
   "version": "3.6.9"
  }
 },
 "nbformat": 4,
 "nbformat_minor": 2
}
