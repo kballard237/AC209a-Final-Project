{
 "cells": [
  {
   "cell_type": "code",
   "execution_count": 120,
   "metadata": {},
   "outputs": [],
   "source": [
    "import pandas as pd\n",
    "import numpy as np\n",
    "from matplotlib import pyplot as plt\n",
    "from sklearn.metrics import r2_score\n",
    "from sklearn.neighbors import KNeighborsRegressor\n",
    "from sklearn.linear_model import LinearRegression\n",
    "from sklearn.linear_model import LogisticRegression\n",
    "from sklearn.model_selection import train_test_split\n",
    "from sklearn.linear_model import Ridge\n",
    "from sklearn.linear_model import Lasso"
   ]
  },
  {
   "cell_type": "markdown",
   "metadata": {},
   "source": [
    "## things to consider:\n",
    "- cross validation\n",
    "- scaling, normalizing\n",
    "- validation data set\n",
    "- confidence intervals\n",
    "- resampling\n",
    "- compute ttests\n",
    "- find best predictors"
   ]
  },
  {
   "cell_type": "code",
   "execution_count": 121,
   "metadata": {},
   "outputs": [],
   "source": [
    "df = pd.read_csv(\"all_data.csv\").drop(columns=['Unnamed: 0'])"
   ]
  },
  {
   "cell_type": "code",
   "execution_count": 122,
   "metadata": {},
   "outputs": [],
   "source": [
    "light_status = []\n",
    "for i in range(df.shape[0]):\n",
    "    if df.loc[i,'avg_hrly_light'] == 4095.:\n",
    "        light_status.append(0)\n",
    "    else:\n",
    "        light_status.append(1)\n"
   ]
  },
  {
   "cell_type": "code",
   "execution_count": 123,
   "metadata": {},
   "outputs": [],
   "source": [
    "df['light_status'] = light_status"
   ]
  },
  {
   "cell_type": "code",
   "execution_count": 124,
   "metadata": {},
   "outputs": [],
   "source": [
    "train_data, test_data = train_test_split(df, test_size=0.2)"
   ]
  },
  {
   "cell_type": "code",
   "execution_count": 133,
   "metadata": {},
   "outputs": [
    {
     "data": {
      "text/plain": [
       "Index(['day', 'hour', 'month', 'weekday', 'avg_hrly_hum', 'avg_hrly_temp',\n",
       "       'avg_hrly_press', 'tot_motion_count', 'avg_hrly_light', 'num_psets_due',\n",
       "       'light_status'],\n",
       "      dtype='object')"
      ]
     },
     "execution_count": 133,
     "metadata": {},
     "output_type": "execute_result"
    }
   ],
   "source": [
    "train_data.columns"
   ]
  },
  {
   "cell_type": "code",
   "execution_count": 134,
   "metadata": {},
   "outputs": [],
   "source": [
    "X_train = train_data.drop(columns=['light_status','avg_hrly_light'])\n",
    "y_train = train_data['light_status']\n",
    "X_test = test_data.drop(columns=['light_status', 'avg_hrly_light'])\n",
    "y_test = test_data['light_status']"
   ]
  },
  {
   "cell_type": "code",
   "execution_count": 135,
   "metadata": {},
   "outputs": [],
   "source": [
    "from sklearn import preprocessing\n",
    "from sklearn.preprocessing import StandardScaler\n",
    "\n",
    "def standardize(train_df, val_df):\n",
    "    # builtin standardscaler\n",
    "    \n",
    "    # fit on train df\n",
    "    scaler = StandardScaler(with_mean=True) # with mean=True also centers before scaling\n",
    "    scaler.fit(train_df)\n",
    "    \n",
    "    # transform train\n",
    "    train_scaled = scaler.transform(train_df)\n",
    "    scaled_train_df = pd.DataFrame(train_scaled, index=train_df.index, columns=train_df.columns)\n",
    "    \n",
    "    # transform val\n",
    "    val_scaled = scaler.transform(val_df)\n",
    "    scaled_val_df = pd.DataFrame(val_scaled, index=val_df.index, columns=val_df.columns)\n",
    "    \n",
    "    return scaled_train_df, scaled_val_df #, scaled_test_df"
   ]
  },
  {
   "cell_type": "code",
   "execution_count": 136,
   "metadata": {},
   "outputs": [],
   "source": [
    "X_train_scaled, X_test_scaled = standardize(X_train, X_test)"
   ]
  },
  {
   "cell_type": "code",
   "execution_count": 137,
   "metadata": {},
   "outputs": [
    {
     "data": {
      "text/html": [
       "<div>\n",
       "<style scoped>\n",
       "    .dataframe tbody tr th:only-of-type {\n",
       "        vertical-align: middle;\n",
       "    }\n",
       "\n",
       "    .dataframe tbody tr th {\n",
       "        vertical-align: top;\n",
       "    }\n",
       "\n",
       "    .dataframe thead th {\n",
       "        text-align: right;\n",
       "    }\n",
       "</style>\n",
       "<table border=\"1\" class=\"dataframe\">\n",
       "  <thead>\n",
       "    <tr style=\"text-align: right;\">\n",
       "      <th></th>\n",
       "      <th>day</th>\n",
       "      <th>hour</th>\n",
       "      <th>month</th>\n",
       "      <th>weekday</th>\n",
       "      <th>avg_hrly_hum</th>\n",
       "      <th>avg_hrly_temp</th>\n",
       "      <th>avg_hrly_press</th>\n",
       "      <th>tot_motion_count</th>\n",
       "      <th>num_psets_due</th>\n",
       "    </tr>\n",
       "  </thead>\n",
       "  <tbody>\n",
       "    <tr>\n",
       "      <th>222</th>\n",
       "      <td>-0.886584</td>\n",
       "      <td>-0.080360</td>\n",
       "      <td>0.265372</td>\n",
       "      <td>0.494849</td>\n",
       "      <td>0.433721</td>\n",
       "      <td>0.153051</td>\n",
       "      <td>0.900020</td>\n",
       "      <td>-0.461929</td>\n",
       "      <td>1.086579</td>\n",
       "    </tr>\n",
       "    <tr>\n",
       "      <th>185</th>\n",
       "      <td>-1.102844</td>\n",
       "      <td>1.519188</td>\n",
       "      <td>0.265372</td>\n",
       "      <td>-0.581878</td>\n",
       "      <td>0.844598</td>\n",
       "      <td>0.261039</td>\n",
       "      <td>-0.178907</td>\n",
       "      <td>1.077288</td>\n",
       "      <td>2.710342</td>\n",
       "    </tr>\n",
       "    <tr>\n",
       "      <th>345</th>\n",
       "      <td>-0.237805</td>\n",
       "      <td>0.792121</td>\n",
       "      <td>0.265372</td>\n",
       "      <td>-0.043514</td>\n",
       "      <td>-0.569683</td>\n",
       "      <td>-1.034819</td>\n",
       "      <td>0.919853</td>\n",
       "      <td>-0.461929</td>\n",
       "      <td>-0.537185</td>\n",
       "    </tr>\n",
       "    <tr>\n",
       "      <th>432</th>\n",
       "      <td>0.302845</td>\n",
       "      <td>-1.534495</td>\n",
       "      <td>0.265372</td>\n",
       "      <td>-1.120242</td>\n",
       "      <td>-0.967584</td>\n",
       "      <td>-1.315589</td>\n",
       "      <td>0.707568</td>\n",
       "      <td>-0.461929</td>\n",
       "      <td>-0.537185</td>\n",
       "    </tr>\n",
       "    <tr>\n",
       "      <th>533</th>\n",
       "      <td>0.843495</td>\n",
       "      <td>-1.389081</td>\n",
       "      <td>0.265372</td>\n",
       "      <td>1.571577</td>\n",
       "      <td>-0.586983</td>\n",
       "      <td>0.520211</td>\n",
       "      <td>-1.072422</td>\n",
       "      <td>-0.461929</td>\n",
       "      <td>-0.537185</td>\n",
       "    </tr>\n",
       "    <tr>\n",
       "      <th>...</th>\n",
       "      <td>...</td>\n",
       "      <td>...</td>\n",
       "      <td>...</td>\n",
       "      <td>...</td>\n",
       "      <td>...</td>\n",
       "      <td>...</td>\n",
       "      <td>...</td>\n",
       "      <td>...</td>\n",
       "      <td>...</td>\n",
       "    </tr>\n",
       "    <tr>\n",
       "      <th>271</th>\n",
       "      <td>-0.562194</td>\n",
       "      <td>0.501294</td>\n",
       "      <td>0.265372</td>\n",
       "      <td>-1.658605</td>\n",
       "      <td>-0.202056</td>\n",
       "      <td>1.124945</td>\n",
       "      <td>-0.067546</td>\n",
       "      <td>-0.461929</td>\n",
       "      <td>-0.537185</td>\n",
       "    </tr>\n",
       "    <tr>\n",
       "      <th>556</th>\n",
       "      <td>0.951625</td>\n",
       "      <td>-1.534495</td>\n",
       "      <td>0.265372</td>\n",
       "      <td>-1.658605</td>\n",
       "      <td>-0.362082</td>\n",
       "      <td>0.433820</td>\n",
       "      <td>-2.222948</td>\n",
       "      <td>-0.461929</td>\n",
       "      <td>-0.537185</td>\n",
       "    </tr>\n",
       "    <tr>\n",
       "      <th>393</th>\n",
       "      <td>0.086585</td>\n",
       "      <td>-0.225774</td>\n",
       "      <td>0.265372</td>\n",
       "      <td>1.571577</td>\n",
       "      <td>-1.140585</td>\n",
       "      <td>-1.056417</td>\n",
       "      <td>1.576219</td>\n",
       "      <td>0.755660</td>\n",
       "      <td>-0.537185</td>\n",
       "    </tr>\n",
       "    <tr>\n",
       "      <th>256</th>\n",
       "      <td>-0.778454</td>\n",
       "      <td>1.373774</td>\n",
       "      <td>0.265372</td>\n",
       "      <td>1.033213</td>\n",
       "      <td>0.472646</td>\n",
       "      <td>0.822578</td>\n",
       "      <td>0.831995</td>\n",
       "      <td>-0.461929</td>\n",
       "      <td>-0.537185</td>\n",
       "    </tr>\n",
       "    <tr>\n",
       "      <th>204</th>\n",
       "      <td>-0.994714</td>\n",
       "      <td>0.792121</td>\n",
       "      <td>0.265372</td>\n",
       "      <td>-0.043514</td>\n",
       "      <td>0.130970</td>\n",
       "      <td>0.498613</td>\n",
       "      <td>0.866797</td>\n",
       "      <td>-0.232195</td>\n",
       "      <td>2.710342</td>\n",
       "    </tr>\n",
       "  </tbody>\n",
       "</table>\n",
       "<p>532 rows × 9 columns</p>\n",
       "</div>"
      ],
      "text/plain": [
       "          day      hour     month   weekday  avg_hrly_hum  avg_hrly_temp  \\\n",
       "222 -0.886584 -0.080360  0.265372  0.494849      0.433721       0.153051   \n",
       "185 -1.102844  1.519188  0.265372 -0.581878      0.844598       0.261039   \n",
       "345 -0.237805  0.792121  0.265372 -0.043514     -0.569683      -1.034819   \n",
       "432  0.302845 -1.534495  0.265372 -1.120242     -0.967584      -1.315589   \n",
       "533  0.843495 -1.389081  0.265372  1.571577     -0.586983       0.520211   \n",
       "..        ...       ...       ...       ...           ...            ...   \n",
       "271 -0.562194  0.501294  0.265372 -1.658605     -0.202056       1.124945   \n",
       "556  0.951625 -1.534495  0.265372 -1.658605     -0.362082       0.433820   \n",
       "393  0.086585 -0.225774  0.265372  1.571577     -1.140585      -1.056417   \n",
       "256 -0.778454  1.373774  0.265372  1.033213      0.472646       0.822578   \n",
       "204 -0.994714  0.792121  0.265372 -0.043514      0.130970       0.498613   \n",
       "\n",
       "     avg_hrly_press  tot_motion_count  num_psets_due  \n",
       "222        0.900020         -0.461929       1.086579  \n",
       "185       -0.178907          1.077288       2.710342  \n",
       "345        0.919853         -0.461929      -0.537185  \n",
       "432        0.707568         -0.461929      -0.537185  \n",
       "533       -1.072422         -0.461929      -0.537185  \n",
       "..              ...               ...            ...  \n",
       "271       -0.067546         -0.461929      -0.537185  \n",
       "556       -2.222948         -0.461929      -0.537185  \n",
       "393        1.576219          0.755660      -0.537185  \n",
       "256        0.831995         -0.461929      -0.537185  \n",
       "204        0.866797         -0.232195       2.710342  \n",
       "\n",
       "[532 rows x 9 columns]"
      ]
     },
     "execution_count": 137,
     "metadata": {},
     "output_type": "execute_result"
    }
   ],
   "source": [
    "X_train_scaled"
   ]
  },
  {
   "cell_type": "markdown",
   "metadata": {},
   "source": [
    "Linear Regression"
   ]
  },
  {
   "cell_type": "code",
   "execution_count": 145,
   "metadata": {},
   "outputs": [
    {
     "name": "stdout",
     "output_type": "stream",
     "text": [
      "0.47867799607010164\n",
      "0.49427463621652873\n"
     ]
    }
   ],
   "source": [
    "model = LinearRegression().fit(X_train, y_train)\n",
    "print(model.score(X_train, y_train))\n",
    "print(model.score(X_test, y_test))\n",
    "lin_pred_train = model.predict(X_train)\n",
    "lin_pred_test = model.predict(X_test)"
   ]
  },
  {
   "cell_type": "markdown",
   "metadata": {},
   "source": [
    "Ridge Regression"
   ]
  },
  {
   "cell_type": "code",
   "execution_count": 139,
   "metadata": {},
   "outputs": [
    {
     "name": "stdout",
     "output_type": "stream",
     "text": [
      "0.478677981118219\n",
      "0.49425709514833577\n"
     ]
    }
   ],
   "source": [
    "clf = Ridge(alpha=0.01)\n",
    "clf.fit(X_train, y_train)\n",
    "print(clf.score(X_train, y_train))\n",
    "print(clf.score(X_test, y_test))"
   ]
  },
  {
   "cell_type": "markdown",
   "metadata": {},
   "source": [
    "Lasso Regression"
   ]
  },
  {
   "cell_type": "code",
   "execution_count": 140,
   "metadata": {},
   "outputs": [
    {
     "name": "stdout",
     "output_type": "stream",
     "text": [
      "0.4150209063090498\n",
      "0.4046438145653236\n"
     ]
    }
   ],
   "source": [
    "# lambdas = [0.01, 0.05, 0.1, 5, 10, 50, 100]\n",
    "# , alphas=lam, max_iter=100000\n",
    "# for lam in lambdas:\n",
    "lasso = Lasso().fit(X_train, y_train)\n",
    "print(lasso.score(X_train, y_train))\n",
    "print(lasso.score(X_test, y_test))"
   ]
  },
  {
   "cell_type": "markdown",
   "metadata": {},
   "source": [
    "Can try other models for classifying later ... if want to look at a different problem"
   ]
  },
  {
   "cell_type": "markdown",
   "metadata": {},
   "source": [
    "Logistic Regression\n",
    "\n",
    "- could look at misclassification rate for logistic vs linear"
   ]
  },
  {
   "cell_type": "code",
   "execution_count": 147,
   "metadata": {},
   "outputs": [
    {
     "name": "stdout",
     "output_type": "stream",
     "text": [
      "0.9172932330827067\n",
      "0.9552238805970149\n"
     ]
    }
   ],
   "source": [
    "logreg = LogisticRegression(solver = 'lbfgs').fit(X_train, y_train)\n",
    "print(logreg.score(X_train, y_train))\n",
    "print(logreg.score(X_test, y_test))\n",
    "log_pred_train = logreg.predict(X_train)\n",
    "log_pred_test = logreg.predict(X_test)"
   ]
  },
  {
   "cell_type": "code",
   "execution_count": 149,
   "metadata": {},
   "outputs": [
    {
     "data": {
      "text/plain": [
       "array([1, 0, 1, 0, 0, 0, 0, 0, 0, 1, 0, 0, 0, 0, 0, 0, 0, 0, 0, 0, 0, 1,\n",
       "       0, 1, 0, 0, 1, 0, 1, 0, 0, 0, 1, 0, 0, 1, 1, 0, 0, 1, 1, 0, 0, 1,\n",
       "       0, 0, 0, 0, 0, 0, 0, 1, 0, 0, 1, 0, 0, 0, 0, 0, 1, 1, 0, 0, 0, 0,\n",
       "       1, 0, 0, 0, 0, 0, 1, 0, 0, 0, 1, 1, 1, 0, 0, 0, 0, 1, 1, 0, 1, 1,\n",
       "       0, 0, 0, 1, 0, 0, 1, 0, 0, 0, 0, 0, 0, 0, 1, 1, 0, 0, 0, 0, 0, 1,\n",
       "       1, 0, 0, 1, 1, 0, 0, 1, 0, 0, 1, 0, 1, 1, 1, 0, 0, 1, 0, 1, 1, 0,\n",
       "       1, 0])"
      ]
     },
     "execution_count": 149,
     "metadata": {},
     "output_type": "execute_result"
    }
   ],
   "source": [
    "log_pred_test"
   ]
  },
  {
   "cell_type": "code",
   "execution_count": 151,
   "metadata": {},
   "outputs": [
    {
     "data": {
      "text/plain": [
       "((532, 9), (532,))"
      ]
     },
     "execution_count": 151,
     "metadata": {},
     "output_type": "execute_result"
    }
   ],
   "source": [
    "X_train.shape, y_train.shape"
   ]
  },
  {
   "cell_type": "code",
   "execution_count": 152,
   "metadata": {},
   "outputs": [
    {
     "ename": "AttributeError",
     "evalue": "'Series' object has no attribute 'reshape'",
     "output_type": "error",
     "traceback": [
      "\u001b[0;31m---------------------------------------------------------------------------\u001b[0m",
      "\u001b[0;31mAttributeError\u001b[0m                            Traceback (most recent call last)",
      "\u001b[0;32m<ipython-input-152-ce280e056df3>\u001b[0m in \u001b[0;36m<module>\u001b[0;34m\u001b[0m\n\u001b[1;32m      7\u001b[0m \u001b[0;34m\u001b[0m\u001b[0m\n\u001b[1;32m      8\u001b[0m \u001b[0;31m# train\u001b[0m\u001b[0;34m\u001b[0m\u001b[0;34m\u001b[0m\u001b[0;34m\u001b[0m\u001b[0m\n\u001b[0;32m----> 9\u001b[0;31m \u001b[0maxes\u001b[0m\u001b[0;34m[\u001b[0m\u001b[0;36m0\u001b[0m\u001b[0;34m]\u001b[0m\u001b[0;34m.\u001b[0m\u001b[0mscatter\u001b[0m\u001b[0;34m(\u001b[0m\u001b[0mX_train\u001b[0m\u001b[0;34m,\u001b[0m\u001b[0my_train\u001b[0m\u001b[0;34m.\u001b[0m\u001b[0mreshape\u001b[0m\u001b[0;34m(\u001b[0m\u001b[0;34m-\u001b[0m\u001b[0;36m1\u001b[0m\u001b[0;34m,\u001b[0m\u001b[0;36m1\u001b[0m\u001b[0;34m)\u001b[0m\u001b[0;34m,\u001b[0m \u001b[0mlabel\u001b[0m\u001b[0;34m=\u001b[0m\u001b[0;34m\"True Light Status\"\u001b[0m\u001b[0;34m,\u001b[0m \u001b[0malpha\u001b[0m\u001b[0;34m=\u001b[0m\u001b[0;36m0.5\u001b[0m\u001b[0;34m)\u001b[0m\u001b[0;34m\u001b[0m\u001b[0;34m\u001b[0m\u001b[0m\n\u001b[0m\u001b[1;32m     10\u001b[0m \u001b[0maxes\u001b[0m\u001b[0;34m[\u001b[0m\u001b[0;36m0\u001b[0m\u001b[0;34m]\u001b[0m\u001b[0;34m.\u001b[0m\u001b[0mplot\u001b[0m\u001b[0;34m(\u001b[0m\u001b[0mX_train\u001b[0m\u001b[0;34m,\u001b[0m \u001b[0mlin_train_pred\u001b[0m\u001b[0;34m,\u001b[0m \u001b[0mlabel\u001b[0m\u001b[0;34m=\u001b[0m\u001b[0;34m\"linear regression\"\u001b[0m\u001b[0;34m,\u001b[0m \u001b[0mc\u001b[0m\u001b[0;34m=\u001b[0m\u001b[0;34m\"g\"\u001b[0m\u001b[0;34m)\u001b[0m\u001b[0;34m\u001b[0m\u001b[0;34m\u001b[0m\u001b[0m\n\u001b[1;32m     11\u001b[0m \u001b[0;31m# axes[0].scatter(best_predictor_train, y_train_pred2[:,0], label=\"logistic regression, class 0\", alpha=0.7, c=\"red\")\u001b[0m\u001b[0;34m\u001b[0m\u001b[0;34m\u001b[0m\u001b[0;34m\u001b[0m\u001b[0m\n",
      "\u001b[0;32m~/anaconda/lib/python3.6/site-packages/pandas/core/generic.py\u001b[0m in \u001b[0;36m__getattr__\u001b[0;34m(self, name)\u001b[0m\n\u001b[1;32m   5177\u001b[0m             \u001b[0;32mif\u001b[0m \u001b[0mself\u001b[0m\u001b[0;34m.\u001b[0m\u001b[0m_info_axis\u001b[0m\u001b[0;34m.\u001b[0m\u001b[0m_can_hold_identifiers_and_holds_name\u001b[0m\u001b[0;34m(\u001b[0m\u001b[0mname\u001b[0m\u001b[0;34m)\u001b[0m\u001b[0;34m:\u001b[0m\u001b[0;34m\u001b[0m\u001b[0;34m\u001b[0m\u001b[0m\n\u001b[1;32m   5178\u001b[0m                 \u001b[0;32mreturn\u001b[0m \u001b[0mself\u001b[0m\u001b[0;34m[\u001b[0m\u001b[0mname\u001b[0m\u001b[0;34m]\u001b[0m\u001b[0;34m\u001b[0m\u001b[0;34m\u001b[0m\u001b[0m\n\u001b[0;32m-> 5179\u001b[0;31m             \u001b[0;32mreturn\u001b[0m \u001b[0mobject\u001b[0m\u001b[0;34m.\u001b[0m\u001b[0m__getattribute__\u001b[0m\u001b[0;34m(\u001b[0m\u001b[0mself\u001b[0m\u001b[0;34m,\u001b[0m \u001b[0mname\u001b[0m\u001b[0;34m)\u001b[0m\u001b[0;34m\u001b[0m\u001b[0;34m\u001b[0m\u001b[0m\n\u001b[0m\u001b[1;32m   5180\u001b[0m \u001b[0;34m\u001b[0m\u001b[0m\n\u001b[1;32m   5181\u001b[0m     \u001b[0;32mdef\u001b[0m \u001b[0m__setattr__\u001b[0m\u001b[0;34m(\u001b[0m\u001b[0mself\u001b[0m\u001b[0;34m,\u001b[0m \u001b[0mname\u001b[0m\u001b[0;34m,\u001b[0m \u001b[0mvalue\u001b[0m\u001b[0;34m)\u001b[0m\u001b[0;34m:\u001b[0m\u001b[0;34m\u001b[0m\u001b[0;34m\u001b[0m\u001b[0m\n",
      "\u001b[0;31mAttributeError\u001b[0m: 'Series' object has no attribute 'reshape'"
     ]
    },
    {
     "data": {
      "image/png": "[encoded data removed]",
      "text/plain": [
       "<Figure size 1440x504 with 2 Axes>"
      ]
     },
     "metadata": {
      "needs_background": "light"
     },
     "output_type": "display_data"
    }
   ],
   "source": [
    "# lin_train_pred = pd.DataFrame({\"X\": best_predictor_train, \"Pred\": y_train_pred}).sort_values(\"Pred\")\n",
    "# lin_test_pred = pd.DataFrame({\"X\": best_predictor_test, \"Pred\": y_test_pred}).sort_values(\"Pred\")\n",
    "\n",
    "fig, axes = plt.subplots(1,2,figsize=(20,7))\n",
    "fig.suptitle(\"Light Status Predictions\", fontsize=20)\n",
    "axes.ravel()\n",
    "\n",
    "# train \n",
    "axes[0].scatter(X_train,y_train, label=\"True Light Status\", alpha=0.5)\n",
    "axes[0].plot(X_train, lin_train_pred, label=\"linear regression\", c=\"g\")\n",
    "# axes[0].scatter(best_predictor_train, y_train_pred2[:,0], label=\"logistic regression, class 0\", alpha=0.7, c=\"red\")\n",
    "axes[0].scatter(X_train, log_pred_train, label=\"logistic regression\", alpha=0.7, c=\"m\")\n",
    "axes[0].plot(best_predictor_train, [0.5]*best_predictor_train.shape[0], label=\"y=0.5\", c=\"black\")\n",
    "axes[0].legend()\n",
    "axes[0].set_title(\"Train Data\")\n",
    "axes[0].set_xlabel(\"Best Gene Predictor\")\n",
    "axes[0].set_ylabel(\"Predicted Values\")\n",
    "axes[0].grid(False)\n",
    "\n",
    "# test\n",
    "# axes[1].scatter(best_predictor_test,y_test, label=\"True binary Response\", alpha=0.5)\n",
    "# axes[1].plot(lin_test_pred.X, lin_test_pred.Pred, label=\"linear regression\", c=\"g\")\n",
    "# # axes[1].scatter(best_predictor_test, y_test_pred2[:,0], label=\"logistic regression, class 0\", alpha=0.7, c=\"red\")\n",
    "# axes[1].scatter(best_predictor_test, y_test_pred2[:,1], label=\"logistic regression, class 1\", alpha=0.7, c=\"m\")\n",
    "# axes[1].plot(best_predictor_test, [0.5]*best_predictor_test.shape[0], label=\"y=0.5\", c=\"black\")\n",
    "# axes[1].legend()\n",
    "# axes[1].set_title(\"Test Data\")\n",
    "# axes[1].set_xlabel(\"Best Gene Predictor\")\n",
    "# axes[1].set_ylabel(\"Predicted Values\")\n",
    "# axes[1].grid(False)\n",
    "# plt.show()\n",
    "# plot predict prob a"
   ]
  },
  {
   "cell_type": "code",
   "execution_count": null,
   "metadata": {},
   "outputs": [],
   "source": []
  }
 ],
 "metadata": {
  "kernelspec": {
   "display_name": "Python 3",
   "language": "python",
   "name": "python3"
  },
  "language_info": {
   "codemirror_mode": {
    "name": "ipython",
    "version": 3
   },
   "file_extension": ".py",
   "mimetype": "text/x-python",
   "name": "python",
   "nbconvert_exporter": "python",
   "pygments_lexer": "ipython3",
   "version": "3.6.9"
  }
 },
 "nbformat": 4,
 "nbformat_minor": 2
}
