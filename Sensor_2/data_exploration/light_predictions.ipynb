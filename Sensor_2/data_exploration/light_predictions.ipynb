{
 "cells": [
  {
   "cell_type": "code",
   "execution_count": null,
   "metadata": {},
   "outputs": [],
   "source": [
    "## Light\n",
    "# read in data\n",
    "df = pd.read_csv(\"all_data.csv\").drop(columns=['Unnamed: 0'])\n",
    "light_status = []\n",
    "for i in range(df.shape[0]):\n",
    "    if df.loc[i,'avg_hrly_light'] == 4095.:\n",
    "        light_status.append(0)\n",
    "    else:\n",
    "        light_status.append(1)\n",
    "\n",
    "# create outcome variable\n",
    "df['light_status'] = light_status\n",
    "train_data, test_data = train_test_split(df, test_size=0.2)\n",
    "X_train = train_data.drop(columns=['light_status','avg_hrly_light'])\n",
    "y_train = train_data['light_status']\n",
    "X_test = test_data.drop(columns=['light_status', 'avg_hrly_light'])\n",
    "y_test = test_data['light_status']\n",
    "\n",
    "cols_to_scale2 = ['avg_hrly_hum', 'avg_hrly_press', 'tot_motion_count', 'avg_hrly_temp']\n",
    "X_train3, X_test3 = scale(X_train, X_test, y_train, y_test, cols_to_scale2)\n",
    "\n",
    "# Models\n",
    "# linear\n",
    "model = LinearRegression().fit(X_train3, y_train)\n",
    "print(\"Linear Regression train score: {}.\".format(model.score(X_train3, y_train)))\n",
    "print(\"Linear Regression test score: {}.\".format(model.score(X_test3, y_test)))\n",
    "lin_pred_train = model.predict(X_train3)\n",
    "lin_pred_test = model.predict(X_test3)\n",
    "\n",
    "# ridge\n",
    "clf = Ridge(alpha=0.01)\n",
    "clf.fit(X_train3, y_train)\n",
    "print(\"Ridge Regression train score {}.\".format(clf.score(X_train3, y_train)))\n",
    "print(\"Ridge Regression test score: {}.\".format(clf.score(X_test3, y_test)))\n",
    "\n",
    "# logistic Regression\n",
    "logreg = LogisticRegression(solver = 'lbfgs', max_iter=100000).fit(X_train3, y_train)\n",
    "print(\"Logistic Regression train score {}.\".format(logreg.score(X_train3, y_train)))\n",
    "print(\"Logistic Regression test score: {}.\".format(logreg.score(X_test3, y_test)))\n",
    "log_pred_train = logreg.predict_proba(X_train3)\n",
    "log_pred_test = logreg.predict_proba(X_test3)"
   ]
  }
 ],
 "metadata": {
  "kernelspec": {
   "display_name": "Python 3",
   "language": "python",
   "name": "python3"
  },
  "language_info": {
   "codemirror_mode": {
    "name": "ipython",
    "version": 3
   },
   "file_extension": ".py",
   "mimetype": "text/x-python",
   "name": "python",
   "nbconvert_exporter": "python",
   "pygments_lexer": "ipython3",
   "version": "3.6.9"
  }
 },
 "nbformat": 4,
 "nbformat_minor": 2
}
