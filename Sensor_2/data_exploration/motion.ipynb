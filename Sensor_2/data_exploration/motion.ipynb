{
 "cells": [
  {
   "cell_type": "code",
   "execution_count": 1,
   "metadata": {},
   "outputs": [],
   "source": [
    "import numpy as np\n",
    "import pandas as pd\n",
    "import os\n",
    "import datetime\n",
    "from matplotlib import pyplot as plt"
   ]
  },
  {
   "cell_type": "code",
   "execution_count": 2,
   "metadata": {},
   "outputs": [],
   "source": [
    "def read_txt(filename):\n",
    "    save_ls = []\n",
    "    with open(filename, 'r') as file:\n",
    "        for line in file:\n",
    "            line = line.split(',')\n",
    "            for val in line:\n",
    "                save_ls.append(val)\n",
    "    return save_ls\n",
    "\n",
    "# read in sensor data\n",
    "m1 = read_txt('../collection1/CS109a_motion.txt')\n",
    "m2 = read_txt('../collection2/CS109a_motion.txt')\n",
    "m3 = read_txt('../collection3/CS109a_motion.txt')\n",
    "m4 = read_txt('../collection4/CS109a_motion.txt')\n",
    "m5 = read_txt('../collection5/CS109a_motion.txt')\n",
    "m6 = read_txt('../collection6/CS109a_motion.txt')\n",
    "m7 = read_txt('../collection7/CS109a_motion.txt')\n",
    "m8 = read_txt('../collection8/CS109a_motion.txt')"
   ]
  },
  {
   "cell_type": "code",
   "execution_count": 3,
   "metadata": {},
   "outputs": [],
   "source": [
    "# generate start times (every 30 minutes) from initial start dates\n",
    "oct23 = datetime.datetime(2019, 10, 23, hour=8, minute=16)\n",
    "oct29 = datetime.datetime(2019, 10, 29, hour=22, minute=42)\n",
    "nov3 = datetime.datetime(2019, 11, 3, hour=9, minute=30)\n",
    "nov6 = datetime.datetime(2019, 11, 6, hour=21, minute=13)\n",
    "nov11 = datetime.datetime(2019, 11, 11, hour=12, minute=50)\n",
    "nov16 = datetime.datetime(2019, 11, 16, hour=9, minute=0) # temp, press, hum every 15 min\n",
    "nov21 = datetime.datetime(2019, 11, 21, hour=8, minute=53)\n",
    "nov26 = datetime.datetime(2019, 11, 26, hour=13, minute=7)\n",
    "\n",
    "def compute_time_int(start_dt, m):\n",
    "    dates = [start_dt]\n",
    "    for i in range(len(m)-1): \n",
    "        dates.append(dates[i] + datetime.timedelta(seconds=1))\n",
    "    df = pd.DataFrame({'date': dates,'motion': m})\n",
    "    df.drop(df.tail(1).index,inplace=True)\n",
    "    return df\n",
    "    \n",
    "df0 = compute_time_int(oct23, m1)\n",
    "df1 = compute_time_int(oct29, m2)\n",
    "df2 = compute_time_int(nov3, m3)\n",
    "df3 = compute_time_int(nov6, m4)\n",
    "df4 = compute_time_int(nov11, m5)\n",
    "df5 = compute_time_int(nov16, m6)\n",
    "df6 = compute_time_int(nov21, m7)\n",
    "df7 = compute_time_int(nov26, m8)\n",
    "# drop last empty row"
   ]
  },
  {
   "cell_type": "code",
   "execution_count": 4,
   "metadata": {},
   "outputs": [],
   "source": [
    "def convert_to_float(dfs, feature):\n",
    "    for df in dfs:\n",
    "        df.light = [float(i) for i in df[feature]]\n",
    "\n",
    "def fill_in_dates(start_dt, end_dt):\n",
    "    in_between = []\n",
    "    cur_dt = start_dt\n",
    "    in_between.append(cur_dt)\n",
    "    while cur_dt <= end_dt:\n",
    "        cur_dt += datetime.timedelta(minutes=5)\n",
    "        in_between.append(cur_dt)\n",
    "    return in_between\n",
    "\n",
    "def create_large_df(dfs, ls=None, fill_in=False):\n",
    "    if fill_in:\n",
    "        b0 = fill_in_dates(max(df0.date), min(df1.date))\n",
    "        b1 = fill_in_dates(max(df1.date), min(df2.date))\n",
    "        b2 = fill_in_dates(max(df2.date), min(df3.date))\n",
    "        b3 = fill_in_dates(max(df3.date), min(df4.date))\n",
    "\n",
    "    #     df01 = pd.DataFrame({'date': b1, 'light': float(l1[-2])*np.ones(len(b1))})\n",
    "        df11 = pd.DataFrame({'date': b1, 'light': float(l2[-2])*np.ones(len(b1))})\n",
    "        df21 = pd.DataFrame({'date': b2, 'light': float(l3[-2])*np.ones(len(b2))})\n",
    "        df31 = pd.DataFrame({'date': b3, 'light': float(l4[-2])*np.ones(len(b3))})\n",
    "\n",
    "        df = pd.concat(dfs, axis=0)\n",
    "    else:\n",
    "        \n",
    "        df = pd.concat(dfs, axis=0)\n",
    "    return df\n",
    "\n",
    "def assign_numerical_date_vals(df):\n",
    "    df2 = df.copy()\n",
    "    \n",
    "    month = []\n",
    "    day = []\n",
    "    hour = []\n",
    "    minute = []\n",
    "    second = []\n",
    "    weekday = []\n",
    "    \n",
    "    for i,dt in enumerate(df2['date']):\n",
    "        month.append(dt.month)\n",
    "        day.append(dt.day)\n",
    "        hour.append(dt.hour)\n",
    "        minute.append(dt.minute)\n",
    "        second.append(dt.second)\n",
    "        weekday.append(dt.weekday())\n",
    "\n",
    "    df2['month'] = month\n",
    "    df2['day'] = day\n",
    "    df2['hour'] = hour\n",
    "    df2['minute'] = minute\n",
    "    df2['second'] = second\n",
    "    df2['weekday'] = weekday\n",
    "    return df2\n",
    "\n",
    "def get_day_labels(df):\n",
    "    days = df['day']\n",
    "    unique_days =list(np.unique(days))\n",
    "    indexes = np.unique(days, return_index=True)[1]\n",
    "    dates_in_order = [days.values[index] for index in sorted(indexes)]\n",
    "    return dates_in_order\n",
    "\n",
    "def calendar_plot(df, dates_in_order, feature):\n",
    "    fig, ax = plt.subplots(6,6, figsize=(18,15), sharey=True)\n",
    "    ax = ax.flatten()\n",
    "\n",
    "    for i,d in enumerate(dates_in_order):\n",
    "        temp = df[df['day'] == d]\n",
    "        ax[i].scatter(temp['hour'], temp[feature])\n",
    "        ax[i].set_title(\"Day {}\".format(d))\n",
    "    plt.suptitle(feature)\n",
    "    plt.xlabel(\"Hour\")\n",
    "    plt.ylabel(feature)\n",
    "    plt.show()"
   ]
  },
  {
   "cell_type": "code",
   "execution_count": 5,
   "metadata": {},
   "outputs": [
    {
     "name": "stderr",
     "output_type": "stream",
     "text": [
      "/Users/kaelanelson/anaconda/lib/python3.6/site-packages/ipykernel_launcher.py:3: UserWarning: Pandas doesn't allow columns to be created via a new attribute name - see https://pandas.pydata.org/pandas-docs/stable/indexing.html#attribute-access\n",
      "  This is separate from the ipykernel package so we can avoid doing imports until\n"
     ]
    },
    {
     "data": {
      "image/png": "[encoded data removed]",
      "text/plain": [
       "<Figure size 1296x1080 with 36 Axes>"
      ]
     },
     "metadata": {
      "needs_background": "light"
     },
     "output_type": "display_data"
    }
   ],
   "source": [
    "dfs = [df0,df1,df2,df3,df4, df5, df6, df7]   \n",
    "\n",
    "# convert light values to floats\n",
    "convert_to_float(dfs, 'motion')\n",
    "\n",
    "# create large df from all collection samples\n",
    "dfs_to_concat = [df0, df1, df2, df3, df4, df5, df6, df7]\n",
    "motion = create_large_df(dfs_to_concat)  \n",
    "\n",
    "# plot based on calendar day\n",
    "motion2 = assign_numerical_date_vals(motion)\n",
    "dates_in_order = get_day_labels(motion2)\n",
    "calendar_plot(motion2, dates_in_order, 'motion')"
   ]
  },
  {
   "cell_type": "code",
   "execution_count": 7,
   "metadata": {},
   "outputs": [],
   "source": [
    "motion_counts = [float(i) for i in motion2['motion'].values]\n",
    "motion2['motion_counts'] = motion_counts\n",
    "\n",
    "def ave_motion(x):\n",
    "    x['tot_motion_count'] = sum(x['motion_counts'])\n",
    "    return x\n",
    "\n",
    "motion3 = motion2.groupby(['month','day','hour']).apply(ave_motion)\n",
    "motion4 = motion3.drop(columns=['date', 'minute', 'second', 'motion_counts', 'motion'])"
   ]
  },
  {
   "cell_type": "code",
   "execution_count": 8,
   "metadata": {},
   "outputs": [],
   "source": [
    "motion5 = motion4.drop_duplicates(subset=[\"month\",\"day\", 'hour'])"
   ]
  },
  {
   "cell_type": "code",
   "execution_count": 10,
   "metadata": {},
   "outputs": [],
   "source": [
    "motion5.to_csv(\"motion_df.csv\")"
   ]
  },
  {
   "cell_type": "code",
   "execution_count": null,
   "metadata": {},
   "outputs": [],
   "source": []
  }
 ],
 "metadata": {
  "kernelspec": {
   "display_name": "Python 3",
   "language": "python",
   "name": "python3"
  },
  "language_info": {
   "codemirror_mode": {
    "name": "ipython",
    "version": 3
   },
   "file_extension": ".py",
   "mimetype": "text/x-python",
   "name": "python",
   "nbconvert_exporter": "python",
   "pygments_lexer": "ipython3",
   "version": "3.6.9"
  }
 },
 "nbformat": 4,
 "nbformat_minor": 2
}
