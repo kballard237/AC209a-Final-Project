{
 "cells": [
  {
   "cell_type": "code",
   "execution_count": 190,
   "metadata": {},
   "outputs": [],
   "source": [
    "import pandas as pd\n",
    "import numpy as np\n",
    "from matplotlib import pyplot as plt\n",
    "from sklearn.metrics import r2_score\n",
    "from sklearn.neighbors import KNeighborsRegressor\n",
    "from sklearn.linear_model import LinearRegression\n",
    "from sklearn.linear_model import LogisticRegression\n",
    "from sklearn.model_selection import train_test_split\n",
    "from sklearn.linear_model import Ridge\n",
    "from sklearn.linear_model import Lasso"
   ]
  },
  {
   "cell_type": "markdown",
   "metadata": {},
   "source": [
    "## things to consider:\n",
    "- cross validation\n",
    "- scaling, normalizing\n",
    "- validation data set\n",
    "- confidence intervals\n",
    "- resampling\n",
    "- compute ttests\n",
    "- find best predictors"
   ]
  },
  {
   "cell_type": "code",
   "execution_count": 191,
   "metadata": {},
   "outputs": [],
   "source": [
    "df = pd.read_csv(\"all_data.csv\").drop(columns=['Unnamed: 0'])"
   ]
  },
  {
   "cell_type": "code",
   "execution_count": 192,
   "metadata": {},
   "outputs": [],
   "source": [
    "light_status = []\n",
    "for i in range(df.shape[0]):\n",
    "    if df.loc[i,'avg_hrly_light'] == 4095.:\n",
    "        light_status.append(0)\n",
    "    else:\n",
    "        light_status.append(1)\n"
   ]
  },
  {
   "cell_type": "code",
   "execution_count": 193,
   "metadata": {},
   "outputs": [],
   "source": [
    "df['light_status'] = light_status"
   ]
  },
  {
   "cell_type": "code",
   "execution_count": 194,
   "metadata": {},
   "outputs": [],
   "source": [
    "train_data, test_data = train_test_split(df, test_size=0.2)"
   ]
  },
  {
   "cell_type": "code",
   "execution_count": 195,
   "metadata": {},
   "outputs": [
    {
     "data": {
      "text/plain": [
       "Index(['day', 'hour', 'month', 'weekday', 'avg_hrly_hum', 'avg_hrly_temp',\n",
       "       'avg_hrly_press', 'tot_motion_count', 'avg_hrly_light', 'num_psets_due',\n",
       "       'light_status'],\n",
       "      dtype='object')"
      ]
     },
     "execution_count": 195,
     "metadata": {},
     "output_type": "execute_result"
    }
   ],
   "source": [
    "train_data.columns"
   ]
  },
  {
   "cell_type": "code",
   "execution_count": 196,
   "metadata": {},
   "outputs": [],
   "source": [
    "X_train = train_data.drop(columns=['light_status','avg_hrly_light'])\n",
    "y_train = train_data['light_status']\n",
    "X_test = test_data.drop(columns=['light_status', 'avg_hrly_light'])\n",
    "y_test = test_data['light_status']"
   ]
  },
  {
   "cell_type": "code",
   "execution_count": 197,
   "metadata": {},
   "outputs": [],
   "source": [
    "from sklearn import preprocessing\n",
    "from sklearn.preprocessing import StandardScaler\n",
    "\n",
    "def standardize(train_df, val_df):\n",
    "    # builtin standardscaler\n",
    "    \n",
    "    # fit on train df\n",
    "    scaler = StandardScaler(with_mean=True) # with mean=True also centers before scaling\n",
    "    scaler.fit(train_df)\n",
    "    \n",
    "    # transform train\n",
    "    train_scaled = scaler.transform(train_df)\n",
    "    scaled_train_df = pd.DataFrame(train_scaled, index=train_df.index, columns=train_df.columns)\n",
    "    \n",
    "    # transform val\n",
    "    val_scaled = scaler.transform(val_df)\n",
    "    scaled_val_df = pd.DataFrame(val_scaled, index=val_df.index, columns=val_df.columns)\n",
    "    \n",
    "    return scaled_train_df, scaled_val_df #, scaled_test_df"
   ]
  },
  {
   "cell_type": "code",
   "execution_count": 198,
   "metadata": {},
   "outputs": [],
   "source": [
    "X_train_scaled, X_test_scaled = standardize(X_train, X_test)"
   ]
  },
  {
   "cell_type": "code",
   "execution_count": 199,
   "metadata": {},
   "outputs": [
    {
     "data": {
      "text/html": [
       "<div>\n",
       "<style scoped>\n",
       "    .dataframe tbody tr th:only-of-type {\n",
       "        vertical-align: middle;\n",
       "    }\n",
       "\n",
       "    .dataframe tbody tr th {\n",
       "        vertical-align: top;\n",
       "    }\n",
       "\n",
       "    .dataframe thead th {\n",
       "        text-align: right;\n",
       "    }\n",
       "</style>\n",
       "<table border=\"1\" class=\"dataframe\">\n",
       "  <thead>\n",
       "    <tr style=\"text-align: right;\">\n",
       "      <th></th>\n",
       "      <th>day</th>\n",
       "      <th>hour</th>\n",
       "      <th>month</th>\n",
       "      <th>weekday</th>\n",
       "      <th>avg_hrly_hum</th>\n",
       "      <th>avg_hrly_temp</th>\n",
       "      <th>avg_hrly_press</th>\n",
       "      <th>tot_motion_count</th>\n",
       "      <th>num_psets_due</th>\n",
       "    </tr>\n",
       "  </thead>\n",
       "  <tbody>\n",
       "    <tr>\n",
       "      <th>345</th>\n",
       "      <td>-0.093367</td>\n",
       "      <td>0.822955</td>\n",
       "      <td>-0.154266</td>\n",
       "      <td>0.053311</td>\n",
       "      <td>-0.534286</td>\n",
       "      <td>-0.950358</td>\n",
       "      <td>1.140706</td>\n",
       "      <td>-0.461230</td>\n",
       "      <td>-0.643117</td>\n",
       "    </tr>\n",
       "    <tr>\n",
       "      <th>330</th>\n",
       "      <td>-0.093367</td>\n",
       "      <td>-1.383449</td>\n",
       "      <td>-0.154266</td>\n",
       "      <td>0.053311</td>\n",
       "      <td>-1.139819</td>\n",
       "      <td>-1.685256</td>\n",
       "      <td>1.572912</td>\n",
       "      <td>-0.461230</td>\n",
       "      <td>-0.643117</td>\n",
       "    </tr>\n",
       "    <tr>\n",
       "      <th>510</th>\n",
       "      <td>0.843364</td>\n",
       "      <td>-1.236355</td>\n",
       "      <td>-0.154266</td>\n",
       "      <td>1.159294</td>\n",
       "      <td>-1.148595</td>\n",
       "      <td>0.477444</td>\n",
       "      <td>-0.249297</td>\n",
       "      <td>-0.461230</td>\n",
       "      <td>-0.643117</td>\n",
       "    </tr>\n",
       "    <tr>\n",
       "      <th>754</th>\n",
       "      <td>-0.926017</td>\n",
       "      <td>-1.677636</td>\n",
       "      <td>2.093608</td>\n",
       "      <td>0.606303</td>\n",
       "      <td>-1.025733</td>\n",
       "      <td>-0.677396</td>\n",
       "      <td>0.025140</td>\n",
       "      <td>-0.042172</td>\n",
       "      <td>-0.643117</td>\n",
       "    </tr>\n",
       "    <tr>\n",
       "      <th>337</th>\n",
       "      <td>-0.093367</td>\n",
       "      <td>-0.353794</td>\n",
       "      <td>-0.154266</td>\n",
       "      <td>0.053311</td>\n",
       "      <td>-0.512347</td>\n",
       "      <td>-1.706253</td>\n",
       "      <td>1.658431</td>\n",
       "      <td>0.943847</td>\n",
       "      <td>-0.643117</td>\n",
       "    </tr>\n",
       "    <tr>\n",
       "      <th>...</th>\n",
       "      <td>...</td>\n",
       "      <td>...</td>\n",
       "      <td>...</td>\n",
       "      <td>...</td>\n",
       "      <td>...</td>\n",
       "      <td>...</td>\n",
       "      <td>...</td>\n",
       "      <td>...</td>\n",
       "      <td>...</td>\n",
       "    </tr>\n",
       "    <tr>\n",
       "      <th>269</th>\n",
       "      <td>-0.405611</td>\n",
       "      <td>0.234581</td>\n",
       "      <td>-0.154266</td>\n",
       "      <td>-1.605663</td>\n",
       "      <td>0.132677</td>\n",
       "      <td>1.170347</td>\n",
       "      <td>0.360118</td>\n",
       "      <td>0.105731</td>\n",
       "      <td>-0.643117</td>\n",
       "    </tr>\n",
       "    <tr>\n",
       "      <th>342</th>\n",
       "      <td>-0.093367</td>\n",
       "      <td>0.381674</td>\n",
       "      <td>-0.154266</td>\n",
       "      <td>0.053311</td>\n",
       "      <td>-0.249072</td>\n",
       "      <td>-1.223320</td>\n",
       "      <td>1.286737</td>\n",
       "      <td>-0.461230</td>\n",
       "      <td>-0.643117</td>\n",
       "    </tr>\n",
       "    <tr>\n",
       "      <th>376</th>\n",
       "      <td>0.114796</td>\n",
       "      <td>0.822955</td>\n",
       "      <td>-0.154266</td>\n",
       "      <td>1.159294</td>\n",
       "      <td>-0.141568</td>\n",
       "      <td>-0.782382</td>\n",
       "      <td>1.665722</td>\n",
       "      <td>1.412206</td>\n",
       "      <td>-0.643117</td>\n",
       "    </tr>\n",
       "    <tr>\n",
       "      <th>297</th>\n",
       "      <td>-0.301530</td>\n",
       "      <td>0.822955</td>\n",
       "      <td>-0.154266</td>\n",
       "      <td>-1.052671</td>\n",
       "      <td>-1.008181</td>\n",
       "      <td>0.183484</td>\n",
       "      <td>-0.199829</td>\n",
       "      <td>-0.461230</td>\n",
       "      <td>-0.643117</td>\n",
       "    </tr>\n",
       "    <tr>\n",
       "      <th>334</th>\n",
       "      <td>-0.093367</td>\n",
       "      <td>-0.795075</td>\n",
       "      <td>-0.154266</td>\n",
       "      <td>0.053311</td>\n",
       "      <td>-1.157371</td>\n",
       "      <td>-1.790242</td>\n",
       "      <td>1.642553</td>\n",
       "      <td>-0.461230</td>\n",
       "      <td>-0.643117</td>\n",
       "    </tr>\n",
       "  </tbody>\n",
       "</table>\n",
       "<p>612 rows × 9 columns</p>\n",
       "</div>"
      ],
      "text/plain": [
       "          day      hour     month   weekday  avg_hrly_hum  avg_hrly_temp  \\\n",
       "345 -0.093367  0.822955 -0.154266  0.053311     -0.534286      -0.950358   \n",
       "330 -0.093367 -1.383449 -0.154266  0.053311     -1.139819      -1.685256   \n",
       "510  0.843364 -1.236355 -0.154266  1.159294     -1.148595       0.477444   \n",
       "754 -0.926017 -1.677636  2.093608  0.606303     -1.025733      -0.677396   \n",
       "337 -0.093367 -0.353794 -0.154266  0.053311     -0.512347      -1.706253   \n",
       "..        ...       ...       ...       ...           ...            ...   \n",
       "269 -0.405611  0.234581 -0.154266 -1.605663      0.132677       1.170347   \n",
       "342 -0.093367  0.381674 -0.154266  0.053311     -0.249072      -1.223320   \n",
       "376  0.114796  0.822955 -0.154266  1.159294     -0.141568      -0.782382   \n",
       "297 -0.301530  0.822955 -0.154266 -1.052671     -1.008181       0.183484   \n",
       "334 -0.093367 -0.795075 -0.154266  0.053311     -1.157371      -1.790242   \n",
       "\n",
       "     avg_hrly_press  tot_motion_count  num_psets_due  \n",
       "345        1.140706         -0.461230      -0.643117  \n",
       "330        1.572912         -0.461230      -0.643117  \n",
       "510       -0.249297         -0.461230      -0.643117  \n",
       "754        0.025140         -0.042172      -0.643117  \n",
       "337        1.658431          0.943847      -0.643117  \n",
       "..              ...               ...            ...  \n",
       "269        0.360118          0.105731      -0.643117  \n",
       "342        1.286737         -0.461230      -0.643117  \n",
       "376        1.665722          1.412206      -0.643117  \n",
       "297       -0.199829         -0.461230      -0.643117  \n",
       "334        1.642553         -0.461230      -0.643117  \n",
       "\n",
       "[612 rows x 9 columns]"
      ]
     },
     "execution_count": 199,
     "metadata": {},
     "output_type": "execute_result"
    }
   ],
   "source": [
    "X_train_scaled"
   ]
  },
  {
   "cell_type": "markdown",
   "metadata": {},
   "source": [
    "Linear Regression"
   ]
  },
  {
   "cell_type": "code",
   "execution_count": 200,
   "metadata": {},
   "outputs": [
    {
     "name": "stdout",
     "output_type": "stream",
     "text": [
      "0.4601942058415551\n",
      "0.39595375692564316\n"
     ]
    }
   ],
   "source": [
    "model = LinearRegression().fit(X_train, y_train)\n",
    "print(model.score(X_train, y_train))\n",
    "print(model.score(X_test, y_test))\n",
    "lin_pred_train = model.predict(X_train)\n",
    "lin_pred_test = model.predict(X_test)"
   ]
  },
  {
   "cell_type": "markdown",
   "metadata": {},
   "source": [
    "Ridge Regression"
   ]
  },
  {
   "cell_type": "code",
   "execution_count": 201,
   "metadata": {},
   "outputs": [
    {
     "name": "stdout",
     "output_type": "stream",
     "text": [
      "0.4601942048572144\n",
      "0.395954168983193\n"
     ]
    }
   ],
   "source": [
    "clf = Ridge(alpha=0.01)\n",
    "clf.fit(X_train, y_train)\n",
    "print(clf.score(X_train, y_train))\n",
    "print(clf.score(X_test, y_test))"
   ]
  },
  {
   "cell_type": "markdown",
   "metadata": {},
   "source": [
    "Lasso Regression"
   ]
  },
  {
   "cell_type": "code",
   "execution_count": 202,
   "metadata": {},
   "outputs": [
    {
     "name": "stdout",
     "output_type": "stream",
     "text": [
      "0.3924522826868362\n",
      "0.3188521756862185\n"
     ]
    }
   ],
   "source": [
    "# lambdas = [0.01, 0.05, 0.1, 5, 10, 50, 100]\n",
    "# , alphas=lam, max_iter=100000\n",
    "# for lam in lambdas:\n",
    "lasso = Lasso().fit(X_train, y_train)\n",
    "print(lasso.score(X_train, y_train))\n",
    "print(lasso.score(X_test, y_test))"
   ]
  },
  {
   "cell_type": "markdown",
   "metadata": {},
   "source": [
    "Can try other models for classifying later ... if want to look at a different problem"
   ]
  },
  {
   "cell_type": "markdown",
   "metadata": {},
   "source": [
    "Logistic Regression\n",
    "\n",
    "- could look at misclassification rate for logistic vs linear"
   ]
  },
  {
   "cell_type": "code",
   "execution_count": 203,
   "metadata": {},
   "outputs": [
    {
     "name": "stdout",
     "output_type": "stream",
     "text": [
      "0.9133986928104575\n",
      "0.9090909090909091\n"
     ]
    }
   ],
   "source": [
    "logreg = LogisticRegression(solver = 'lbfgs').fit(X_train, y_train)\n",
    "print(logreg.score(X_train, y_train))\n",
    "print(logreg.score(X_test, y_test))\n",
    "log_pred_train = logreg.predict_proba(X_train)\n",
    "log_pred_test = logreg.predict_proba(X_test)"
   ]
  },
  {
   "cell_type": "code",
   "execution_count": 204,
   "metadata": {},
   "outputs": [
    {
     "data": {
      "text/plain": [
       "((612, 9), (154, 9))"
      ]
     },
     "execution_count": 204,
     "metadata": {},
     "output_type": "execute_result"
    }
   ],
   "source": [
    "X_train.shape, X_test.shape"
   ]
  },
  {
   "cell_type": "code",
   "execution_count": 205,
   "metadata": {},
   "outputs": [
    {
     "data": {
      "image/png": "[encoded data removed]",
      "text/plain": [
       "<Figure size 432x288 with 1 Axes>"
      ]
     },
     "metadata": {
      "needs_background": "light"
     },
     "output_type": "display_data"
    }
   ],
   "source": [
    "plt.scatter(np.arange(X_train.shape[0]), y_train)\n",
    "plt.scatter(np.arange(X_train.shape[0]), np.sort(log_pred_train[:,0]))\n",
    "plt.show()"
   ]
  },
  {
   "cell_type": "code",
   "execution_count": 208,
   "metadata": {},
   "outputs": [
    {
     "data": {
      "image/png": "[encoded data removed]",
      "text/plain": [
       "<Figure size 432x288 with 1 Axes>"
      ]
     },
     "metadata": {
      "needs_background": "light"
     },
     "output_type": "display_data"
    }
   ],
   "source": [
    "plt.scatter(np.arange(X_test.shape[0]), y_test)\n",
    "plt.scatter(np.arange(X_test.shape[0]), np.sort(log_pred_test[:,0]))\n",
    "plt.show()"
   ]
  },
  {
   "cell_type": "code",
   "execution_count": 169,
   "metadata": {},
   "outputs": [
    {
     "data": {
      "text/plain": [
       "((612, 9), (612,))"
      ]
     },
     "execution_count": 169,
     "metadata": {},
     "output_type": "execute_result"
    }
   ],
   "source": [
    "X_train.shape, y_train.shape"
   ]
  },
  {
   "cell_type": "code",
   "execution_count": 152,
   "metadata": {},
   "outputs": [
    {
     "ename": "AttributeError",
     "evalue": "'Series' object has no attribute 'reshape'",
     "output_type": "error",
     "traceback": [
      "\u001b[0;31m---------------------------------------------------------------------------\u001b[0m",
      "\u001b[0;31mAttributeError\u001b[0m                            Traceback (most recent call last)",
      "\u001b[0;32m<ipython-input-152-ce280e056df3>\u001b[0m in \u001b[0;36m<module>\u001b[0;34m\u001b[0m\n\u001b[1;32m      7\u001b[0m \u001b[0;34m\u001b[0m\u001b[0m\n\u001b[1;32m      8\u001b[0m \u001b[0;31m# train\u001b[0m\u001b[0;34m\u001b[0m\u001b[0;34m\u001b[0m\u001b[0;34m\u001b[0m\u001b[0m\n\u001b[0;32m----> 9\u001b[0;31m \u001b[0maxes\u001b[0m\u001b[0;34m[\u001b[0m\u001b[0;36m0\u001b[0m\u001b[0;34m]\u001b[0m\u001b[0;34m.\u001b[0m\u001b[0mscatter\u001b[0m\u001b[0;34m(\u001b[0m\u001b[0mX_train\u001b[0m\u001b[0;34m,\u001b[0m\u001b[0my_train\u001b[0m\u001b[0;34m.\u001b[0m\u001b[0mreshape\u001b[0m\u001b[0;34m(\u001b[0m\u001b[0;34m-\u001b[0m\u001b[0;36m1\u001b[0m\u001b[0;34m,\u001b[0m\u001b[0;36m1\u001b[0m\u001b[0;34m)\u001b[0m\u001b[0;34m,\u001b[0m \u001b[0mlabel\u001b[0m\u001b[0;34m=\u001b[0m\u001b[0;34m\"True Light Status\"\u001b[0m\u001b[0;34m,\u001b[0m \u001b[0malpha\u001b[0m\u001b[0;34m=\u001b[0m\u001b[0;36m0.5\u001b[0m\u001b[0;34m)\u001b[0m\u001b[0;34m\u001b[0m\u001b[0;34m\u001b[0m\u001b[0m\n\u001b[0m\u001b[1;32m     10\u001b[0m \u001b[0maxes\u001b[0m\u001b[0;34m[\u001b[0m\u001b[0;36m0\u001b[0m\u001b[0;34m]\u001b[0m\u001b[0;34m.\u001b[0m\u001b[0mplot\u001b[0m\u001b[0;34m(\u001b[0m\u001b[0mX_train\u001b[0m\u001b[0;34m,\u001b[0m \u001b[0mlin_train_pred\u001b[0m\u001b[0;34m,\u001b[0m \u001b[0mlabel\u001b[0m\u001b[0;34m=\u001b[0m\u001b[0;34m\"linear regression\"\u001b[0m\u001b[0;34m,\u001b[0m \u001b[0mc\u001b[0m\u001b[0;34m=\u001b[0m\u001b[0;34m\"g\"\u001b[0m\u001b[0;34m)\u001b[0m\u001b[0;34m\u001b[0m\u001b[0;34m\u001b[0m\u001b[0m\n\u001b[1;32m     11\u001b[0m \u001b[0;31m# axes[0].scatter(best_predictor_train, y_train_pred2[:,0], label=\"logistic regression, class 0\", alpha=0.7, c=\"red\")\u001b[0m\u001b[0;34m\u001b[0m\u001b[0;34m\u001b[0m\u001b[0;34m\u001b[0m\u001b[0m\n",
      "\u001b[0;32m~/anaconda/lib/python3.6/site-packages/pandas/core/generic.py\u001b[0m in \u001b[0;36m__getattr__\u001b[0;34m(self, name)\u001b[0m\n\u001b[1;32m   5177\u001b[0m             \u001b[0;32mif\u001b[0m \u001b[0mself\u001b[0m\u001b[0;34m.\u001b[0m\u001b[0m_info_axis\u001b[0m\u001b[0;34m.\u001b[0m\u001b[0m_can_hold_identifiers_and_holds_name\u001b[0m\u001b[0;34m(\u001b[0m\u001b[0mname\u001b[0m\u001b[0;34m)\u001b[0m\u001b[0;34m:\u001b[0m\u001b[0;34m\u001b[0m\u001b[0;34m\u001b[0m\u001b[0m\n\u001b[1;32m   5178\u001b[0m                 \u001b[0;32mreturn\u001b[0m \u001b[0mself\u001b[0m\u001b[0;34m[\u001b[0m\u001b[0mname\u001b[0m\u001b[0;34m]\u001b[0m\u001b[0;34m\u001b[0m\u001b[0;34m\u001b[0m\u001b[0m\n\u001b[0;32m-> 5179\u001b[0;31m             \u001b[0;32mreturn\u001b[0m \u001b[0mobject\u001b[0m\u001b[0;34m.\u001b[0m\u001b[0m__getattribute__\u001b[0m\u001b[0;34m(\u001b[0m\u001b[0mself\u001b[0m\u001b[0;34m,\u001b[0m \u001b[0mname\u001b[0m\u001b[0;34m)\u001b[0m\u001b[0;34m\u001b[0m\u001b[0;34m\u001b[0m\u001b[0m\n\u001b[0m\u001b[1;32m   5180\u001b[0m \u001b[0;34m\u001b[0m\u001b[0m\n\u001b[1;32m   5181\u001b[0m     \u001b[0;32mdef\u001b[0m \u001b[0m__setattr__\u001b[0m\u001b[0;34m(\u001b[0m\u001b[0mself\u001b[0m\u001b[0;34m,\u001b[0m \u001b[0mname\u001b[0m\u001b[0;34m,\u001b[0m \u001b[0mvalue\u001b[0m\u001b[0;34m)\u001b[0m\u001b[0;34m:\u001b[0m\u001b[0;34m\u001b[0m\u001b[0;34m\u001b[0m\u001b[0m\n",
      "\u001b[0;31mAttributeError\u001b[0m: 'Series' object has no attribute 'reshape'"
     ]
    },
    {
     "data": {
      "image/png": "[encoded data removed]",
      "text/plain": [
       "<Figure size 1440x504 with 2 Axes>"
      ]
     },
     "metadata": {
      "needs_background": "light"
     },
     "output_type": "display_data"
    }
   ],
   "source": [
    "# lin_train_pred = pd.DataFrame({\"X\": best_predictor_train, \"Pred\": y_train_pred}).sort_values(\"Pred\")\n",
    "# lin_test_pred = pd.DataFrame({\"X\": best_predictor_test, \"Pred\": y_test_pred}).sort_values(\"Pred\")\n",
    "\n",
    "fig, axes = plt.subplots(1,2,figsize=(20,7))\n",
    "fig.suptitle(\"Light Status Predictions\", fontsize=20)\n",
    "axes.ravel()\n",
    "\n",
    "# train \n",
    "axes[0].scatter(X_train,y_train, label=\"True Light Status\", alpha=0.5)\n",
    "axes[0].plot(X_train, lin_train_pred, label=\"linear regression\", c=\"g\")\n",
    "# axes[0].scatter(best_predictor_train, y_train_pred2[:,0], label=\"logistic regression, class 0\", alpha=0.7, c=\"red\")\n",
    "axes[0].scatter(X_train, log_pred_train, label=\"logistic regression\", alpha=0.7, c=\"m\")\n",
    "axes[0].plot(best_predictor_train, [0.5]*best_predictor_train.shape[0], label=\"y=0.5\", c=\"black\")\n",
    "axes[0].legend()\n",
    "axes[0].set_title(\"Train Data\")\n",
    "axes[0].set_xlabel(\"Best Gene Predictor\")\n",
    "axes[0].set_ylabel(\"Predicted Values\")\n",
    "axes[0].grid(False)\n",
    "\n",
    "# test\n",
    "# axes[1].scatter(best_predictor_test,y_test, label=\"True binary Response\", alpha=0.5)\n",
    "# axes[1].plot(lin_test_pred.X, lin_test_pred.Pred, label=\"linear regression\", c=\"g\")\n",
    "# # axes[1].scatter(best_predictor_test, y_test_pred2[:,0], label=\"logistic regression, class 0\", alpha=0.7, c=\"red\")\n",
    "# axes[1].scatter(best_predictor_test, y_test_pred2[:,1], label=\"logistic regression, class 1\", alpha=0.7, c=\"m\")\n",
    "# axes[1].plot(best_predictor_test, [0.5]*best_predictor_test.shape[0], label=\"y=0.5\", c=\"black\")\n",
    "# axes[1].legend()\n",
    "# axes[1].set_title(\"Test Data\")\n",
    "# axes[1].set_xlabel(\"Best Gene Predictor\")\n",
    "# axes[1].set_ylabel(\"Predicted Values\")\n",
    "# axes[1].grid(False)\n",
    "# plt.show()\n",
    "# plot predict prob a"
   ]
  },
  {
   "cell_type": "code",
   "execution_count": null,
   "metadata": {},
   "outputs": [],
   "source": []
  }
 ],
 "metadata": {
  "kernelspec": {
   "display_name": "Python 3",
   "language": "python",
   "name": "python3"
  },
  "language_info": {
   "codemirror_mode": {
    "name": "ipython",
    "version": 3
   },
   "file_extension": ".py",
   "mimetype": "text/x-python",
   "name": "python",
   "nbconvert_exporter": "python",
   "pygments_lexer": "ipython3",
   "version": "3.6.9"
  }
 },
 "nbformat": 4,
 "nbformat_minor": 2
}
