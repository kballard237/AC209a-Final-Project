{
 "cells": [
  {
   "cell_type": "code",
   "execution_count": 358,
   "metadata": {},
   "outputs": [],
   "source": [
    "import pandas as pd\n",
    "import numpy as np\n",
    "from matplotlib import pyplot as plt\n",
    "from sklearn.metrics import r2_score\n",
    "from sklearn.neighbors import KNeighborsRegressor\n",
    "from sklearn.linear_model import LinearRegression\n",
    "from sklearn.linear_model import LogisticRegression\n",
    "from sklearn.model_selection import train_test_split\n",
    "from sklearn.linear_model import Ridge\n",
    "from sklearn.linear_model import Lasso"
   ]
  },
  {
   "cell_type": "markdown",
   "metadata": {},
   "source": [
    "# possible promising outcome variables\n",
    "- temperature\n",
    "- light (on and off / on due to natural, on due to artificial, off)"
   ]
  },
  {
   "cell_type": "markdown",
   "metadata": {},
   "source": [
    "Question: Based on visualization of light and motion, we see that light and motion are heavily correlated for sensor 2. As a result, if we wanted to put automated lights in this apartment, the sensor could do a good job of predicting when the light should be on of off, based on factors such as motion, temperature, humidity, scheduling (psets due), etc. This could be useful for light conservation."
   ]
  },
  {
   "cell_type": "markdown",
   "metadata": {},
   "source": [
    "## things to consider:\n",
    "- cross validation\n",
    "- scaling, normalizing\n",
    "- validation data set\n",
    "- confidence intervals\n",
    "- resampling\n",
    "- compute ttests\n",
    "- find best predictors\n",
    "\n",
    "# additional features:\n",
    "- interaction : light (numerical value) x motion count\n",
    "- polynomial terms\n",
    "- predict sleep - binary indicator (1 if between 7-9 hours, 0 else)"
   ]
  },
  {
   "cell_type": "code",
   "execution_count": 359,
   "metadata": {},
   "outputs": [],
   "source": [
    "df = pd.read_csv(\"all_data.csv\").drop(columns=['Unnamed: 0'])"
   ]
  },
  {
   "cell_type": "code",
   "execution_count": 360,
   "metadata": {},
   "outputs": [
    {
     "data": {
      "text/html": [
       "<div>\n",
       "<style scoped>\n",
       "    .dataframe tbody tr th:only-of-type {\n",
       "        vertical-align: middle;\n",
       "    }\n",
       "\n",
       "    .dataframe tbody tr th {\n",
       "        vertical-align: top;\n",
       "    }\n",
       "\n",
       "    .dataframe thead th {\n",
       "        text-align: right;\n",
       "    }\n",
       "</style>\n",
       "<table border=\"1\" class=\"dataframe\">\n",
       "  <thead>\n",
       "    <tr style=\"text-align: right;\">\n",
       "      <th></th>\n",
       "      <th>day</th>\n",
       "      <th>hour</th>\n",
       "      <th>month</th>\n",
       "      <th>weekday</th>\n",
       "      <th>avg_hrly_hum</th>\n",
       "      <th>avg_hrly_temp</th>\n",
       "      <th>avg_hrly_press</th>\n",
       "      <th>tot_motion_count</th>\n",
       "      <th>avg_hrly_light</th>\n",
       "      <th>num_hrs_slept</th>\n",
       "      <th>num_psets_due</th>\n",
       "    </tr>\n",
       "  </thead>\n",
       "  <tbody>\n",
       "    <tr>\n",
       "      <th>0</th>\n",
       "      <td>23</td>\n",
       "      <td>8</td>\n",
       "      <td>10</td>\n",
       "      <td>2</td>\n",
       "      <td>51.35</td>\n",
       "      <td>22.80</td>\n",
       "      <td>100858.130</td>\n",
       "      <td>0.0</td>\n",
       "      <td>4095.000000</td>\n",
       "      <td>6.46</td>\n",
       "      <td>3</td>\n",
       "    </tr>\n",
       "    <tr>\n",
       "      <th>1</th>\n",
       "      <td>29</td>\n",
       "      <td>22</td>\n",
       "      <td>10</td>\n",
       "      <td>1</td>\n",
       "      <td>54.20</td>\n",
       "      <td>20.50</td>\n",
       "      <td>102802.440</td>\n",
       "      <td>57.0</td>\n",
       "      <td>2155.500000</td>\n",
       "      <td>6.90</td>\n",
       "      <td>0</td>\n",
       "    </tr>\n",
       "    <tr>\n",
       "      <th>2</th>\n",
       "      <td>29</td>\n",
       "      <td>23</td>\n",
       "      <td>10</td>\n",
       "      <td>1</td>\n",
       "      <td>62.25</td>\n",
       "      <td>19.80</td>\n",
       "      <td>102801.110</td>\n",
       "      <td>26.0</td>\n",
       "      <td>3780.750000</td>\n",
       "      <td>6.90</td>\n",
       "      <td>0</td>\n",
       "    </tr>\n",
       "    <tr>\n",
       "      <th>3</th>\n",
       "      <td>30</td>\n",
       "      <td>0</td>\n",
       "      <td>10</td>\n",
       "      <td>2</td>\n",
       "      <td>65.15</td>\n",
       "      <td>20.15</td>\n",
       "      <td>102810.425</td>\n",
       "      <td>0.0</td>\n",
       "      <td>4095.000000</td>\n",
       "      <td>6.46</td>\n",
       "      <td>1</td>\n",
       "    </tr>\n",
       "    <tr>\n",
       "      <th>4</th>\n",
       "      <td>30</td>\n",
       "      <td>1</td>\n",
       "      <td>10</td>\n",
       "      <td>2</td>\n",
       "      <td>62.20</td>\n",
       "      <td>20.40</td>\n",
       "      <td>102802.390</td>\n",
       "      <td>0.0</td>\n",
       "      <td>4095.000000</td>\n",
       "      <td>6.46</td>\n",
       "      <td>1</td>\n",
       "    </tr>\n",
       "    <tr>\n",
       "      <th>...</th>\n",
       "      <td>...</td>\n",
       "      <td>...</td>\n",
       "      <td>...</td>\n",
       "      <td>...</td>\n",
       "      <td>...</td>\n",
       "      <td>...</td>\n",
       "      <td>...</td>\n",
       "      <td>...</td>\n",
       "      <td>...</td>\n",
       "      <td>...</td>\n",
       "      <td>...</td>\n",
       "    </tr>\n",
       "    <tr>\n",
       "      <th>761</th>\n",
       "      <td>6</td>\n",
       "      <td>7</td>\n",
       "      <td>12</td>\n",
       "      <td>4</td>\n",
       "      <td>19.10</td>\n",
       "      <td>15.75</td>\n",
       "      <td>101990.020</td>\n",
       "      <td>0.0</td>\n",
       "      <td>4095.000000</td>\n",
       "      <td>7.55</td>\n",
       "      <td>0</td>\n",
       "    </tr>\n",
       "    <tr>\n",
       "      <th>762</th>\n",
       "      <td>6</td>\n",
       "      <td>8</td>\n",
       "      <td>12</td>\n",
       "      <td>4</td>\n",
       "      <td>19.35</td>\n",
       "      <td>15.70</td>\n",
       "      <td>102007.570</td>\n",
       "      <td>20.0</td>\n",
       "      <td>4095.000000</td>\n",
       "      <td>7.55</td>\n",
       "      <td>0</td>\n",
       "    </tr>\n",
       "    <tr>\n",
       "      <th>763</th>\n",
       "      <td>6</td>\n",
       "      <td>9</td>\n",
       "      <td>12</td>\n",
       "      <td>4</td>\n",
       "      <td>19.45</td>\n",
       "      <td>15.65</td>\n",
       "      <td>101986.890</td>\n",
       "      <td>20.0</td>\n",
       "      <td>3662.333333</td>\n",
       "      <td>7.55</td>\n",
       "      <td>0</td>\n",
       "    </tr>\n",
       "    <tr>\n",
       "      <th>764</th>\n",
       "      <td>6</td>\n",
       "      <td>10</td>\n",
       "      <td>12</td>\n",
       "      <td>4</td>\n",
       "      <td>28.95</td>\n",
       "      <td>15.85</td>\n",
       "      <td>101894.715</td>\n",
       "      <td>124.0</td>\n",
       "      <td>3099.416667</td>\n",
       "      <td>7.55</td>\n",
       "      <td>0</td>\n",
       "    </tr>\n",
       "    <tr>\n",
       "      <th>765</th>\n",
       "      <td>6</td>\n",
       "      <td>11</td>\n",
       "      <td>12</td>\n",
       "      <td>4</td>\n",
       "      <td>26.30</td>\n",
       "      <td>16.00</td>\n",
       "      <td>101877.170</td>\n",
       "      <td>0.0</td>\n",
       "      <td>4095.000000</td>\n",
       "      <td>7.55</td>\n",
       "      <td>0</td>\n",
       "    </tr>\n",
       "  </tbody>\n",
       "</table>\n",
       "<p>766 rows × 11 columns</p>\n",
       "</div>"
      ],
      "text/plain": [
       "     day  hour  month  weekday  avg_hrly_hum  avg_hrly_temp  avg_hrly_press  \\\n",
       "0     23     8     10        2         51.35          22.80      100858.130   \n",
       "1     29    22     10        1         54.20          20.50      102802.440   \n",
       "2     29    23     10        1         62.25          19.80      102801.110   \n",
       "3     30     0     10        2         65.15          20.15      102810.425   \n",
       "4     30     1     10        2         62.20          20.40      102802.390   \n",
       "..   ...   ...    ...      ...           ...            ...             ...   \n",
       "761    6     7     12        4         19.10          15.75      101990.020   \n",
       "762    6     8     12        4         19.35          15.70      102007.570   \n",
       "763    6     9     12        4         19.45          15.65      101986.890   \n",
       "764    6    10     12        4         28.95          15.85      101894.715   \n",
       "765    6    11     12        4         26.30          16.00      101877.170   \n",
       "\n",
       "     tot_motion_count  avg_hrly_light  num_hrs_slept  num_psets_due  \n",
       "0                 0.0     4095.000000           6.46              3  \n",
       "1                57.0     2155.500000           6.90              0  \n",
       "2                26.0     3780.750000           6.90              0  \n",
       "3                 0.0     4095.000000           6.46              1  \n",
       "4                 0.0     4095.000000           6.46              1  \n",
       "..                ...             ...            ...            ...  \n",
       "761               0.0     4095.000000           7.55              0  \n",
       "762              20.0     4095.000000           7.55              0  \n",
       "763              20.0     3662.333333           7.55              0  \n",
       "764             124.0     3099.416667           7.55              0  \n",
       "765               0.0     4095.000000           7.55              0  \n",
       "\n",
       "[766 rows x 11 columns]"
      ]
     },
     "execution_count": 360,
     "metadata": {},
     "output_type": "execute_result"
    }
   ],
   "source": [
    "df"
   ]
  },
  {
   "cell_type": "code",
   "execution_count": 361,
   "metadata": {},
   "outputs": [],
   "source": [
    "from sklearn import preprocessing\n",
    "from sklearn.preprocessing import StandardScaler\n",
    "\n",
    "def standardize(train_df, val_df):\n",
    "    # builtin standardscaler\n",
    "    \n",
    "    # fit on train df\n",
    "    scaler = StandardScaler(with_mean=True) # with mean=True also centers before scaling\n",
    "    scaler.fit(train_df)\n",
    "    \n",
    "    # transform train\n",
    "    train_scaled = scaler.transform(train_df)\n",
    "    scaled_train_df = pd.DataFrame(train_scaled, index=train_df.index, columns=train_df.columns)\n",
    "    \n",
    "    # transform val\n",
    "    val_scaled = scaler.transform(val_df)\n",
    "    scaled_val_df = pd.DataFrame(val_scaled, index=val_df.index, columns=val_df.columns)\n",
    "    \n",
    "    return scaled_train_df, scaled_val_df #, scaled_test_df\n",
    "\n",
    "def scale(X_trian, X_test, y_train, y_test, cols_to_scale):\n",
    "    X_train_pre = X_train[cols_to_scale]\n",
    "    X_test_pre = X_test[cols_to_scale]\n",
    "    X_train_scaled, X_test_scaled = standardize(X_train_pre, X_test_pre)\n",
    "    \n",
    "    X_train1 = X_train[X_train.columns.difference(cols_to_scale)]\n",
    "    X_test1 = X_test[X_test.columns.difference(cols_to_scale)]\n",
    "    \n",
    "    X_train2 = pd.concat([X_train_scaled, X_train1], sort=False, axis=1)\n",
    "    X_test2 = pd.concat([X_test_scaled, X_test1], sort=False, axis=1)\n",
    "    return X_train2, X_test2"
   ]
  },
  {
   "cell_type": "code",
   "execution_count": 362,
   "metadata": {},
   "outputs": [],
   "source": [
    "# split to train and test\n",
    "train_data, test_data = train_test_split(df, test_size=0.2)"
   ]
  },
  {
   "cell_type": "markdown",
   "metadata": {},
   "source": [
    "## Temperature"
   ]
  },
  {
   "cell_type": "code",
   "execution_count": 279,
   "metadata": {},
   "outputs": [],
   "source": [
    "# temperature\n",
    "X_train = train_data.drop(columns=['avg_hrly_temp'])\n",
    "y_train = train_data['avg_hrly_temp']\n",
    "X_test = test_data.drop(columns=['avg_hrly_temp'])\n",
    "y_test = test_data['avg_hrly_temp']\n",
    "\n",
    "cols_to_scale = ['avg_hrly_hum', 'avg_hrly_press', 'avg_hrly_light', 'tot_motion_count']\n",
    "X_train2, X_test2 = scale(X_train, X_test, y_train, y_test, cols_to_scale)"
   ]
  },
  {
   "cell_type": "code",
   "execution_count": 280,
   "metadata": {},
   "outputs": [
    {
     "name": "stdout",
     "output_type": "stream",
     "text": [
      "0.6129899715760312\n",
      "0.5202566456164754\n",
      "0.6129899578204367\n",
      "0.5202410710257455\n",
      "0.3586659046539963\n",
      "0.318107576697627\n"
     ]
    }
   ],
   "source": [
    "# linear\n",
    "model = LinearRegression().fit(X_train2, y_train)\n",
    "print(model.score(X_train2, y_train))\n",
    "print(model.score(X_test2, y_test))\n",
    "lin_pred_train = model.predict(X_train2)\n",
    "lin_pred_test = model.predict(X_test2)\n",
    "\n",
    "# ridge\n",
    "clf = Ridge(alpha=0.01)\n",
    "clf.fit(X_train2, y_train)\n",
    "print(clf.score(X_train2, y_train))\n",
    "print(clf.score(X_test2, y_test))\n",
    "\n",
    "# lasso\n",
    "lasso = Lasso().fit(X_train2, y_train)\n",
    "print(lasso.score(X_train2, y_train))\n",
    "print(lasso.score(X_test2, y_test))"
   ]
  },
  {
   "cell_type": "code",
   "execution_count": 281,
   "metadata": {},
   "outputs": [
    {
     "data": {
      "image/png": "[encoded data removed]",
      "text/plain": [
       "<Figure size 432x288 with 1 Axes>"
      ]
     },
     "metadata": {
      "needs_background": "light"
     },
     "output_type": "display_data"
    }
   ],
   "source": [
    "plt.scatter(np.arange(X_train2.shape[0]), lin_pred_train, label=\"train pred\")\n",
    "plt.scatter(np.arange(X_train2.shape[0]), y_train, label=\"true vals\")\n",
    "plt.legend()\n",
    "plt.show()"
   ]
  },
  {
   "cell_type": "code",
   "execution_count": 282,
   "metadata": {},
   "outputs": [
    {
     "data": {
      "image/png": "[encoded data removed]",
      "text/plain": [
       "<Figure size 432x288 with 1 Axes>"
      ]
     },
     "metadata": {
      "needs_background": "light"
     },
     "output_type": "display_data"
    }
   ],
   "source": [
    "plt.scatter(np.arange(X_test2.shape[0]), lin_pred_test, label=\"train pred\")\n",
    "plt.scatter(np.arange(X_test2.shape[0]), y_test, label=\"true vals\")\n",
    "plt.legend()\n",
    "plt.show()"
   ]
  },
  {
   "cell_type": "markdown",
   "metadata": {},
   "source": [
    "## Light"
   ]
  },
  {
   "cell_type": "code",
   "execution_count": 287,
   "metadata": {},
   "outputs": [],
   "source": [
    "light_status = []\n",
    "for i in range(df.shape[0]):\n",
    "    if df.loc[i,'avg_hrly_light'] == 4095.:\n",
    "        light_status.append(0)\n",
    "    else:\n",
    "        light_status.append(1)\n"
   ]
  },
  {
   "cell_type": "code",
   "execution_count": 288,
   "metadata": {},
   "outputs": [],
   "source": [
    "df['light_status'] = light_status"
   ]
  },
  {
   "cell_type": "code",
   "execution_count": 289,
   "metadata": {},
   "outputs": [],
   "source": [
    "train_data, test_data = train_test_split(df, test_size=0.2)\n",
    "X_train = train_data.drop(columns=['light_status','avg_hrly_light'])\n",
    "y_train = train_data['light_status']\n",
    "X_test = test_data.drop(columns=['light_status', 'avg_hrly_light'])\n",
    "y_test = test_data['light_status']"
   ]
  },
  {
   "cell_type": "code",
   "execution_count": 290,
   "metadata": {},
   "outputs": [],
   "source": [
    "cols_to_scale2 = ['avg_hrly_hum', 'avg_hrly_press', 'tot_motion_count', 'avg_hrly_temp']\n",
    "X_train3, X_test3 = scale(X_train, X_test, y_train, y_test, cols_to_scale2)"
   ]
  },
  {
   "cell_type": "code",
   "execution_count": 304,
   "metadata": {},
   "outputs": [
    {
     "name": "stdout",
     "output_type": "stream",
     "text": [
      "0.42982511354749475\n",
      "0.5168249402312813\n",
      "0.4298251111294402\n",
      "0.5168369149898014\n",
      "0.0\n",
      "-0.0005103766674103838\n"
     ]
    }
   ],
   "source": [
    "# linear\n",
    "model = LinearRegression().fit(X_train3, y_train)\n",
    "print(model.score(X_train3, y_train))\n",
    "print(model.score(X_test3, y_test))\n",
    "lin_pred_train = model.predict(X_train3)\n",
    "lin_pred_test = model.predict(X_test3)\n",
    "\n",
    "# ridge\n",
    "clf = Ridge(alpha=0.01)\n",
    "clf.fit(X_train3, y_train)\n",
    "print(clf.score(X_train3, y_train))\n",
    "print(clf.score(X_test3, y_test))\n",
    "\n",
    "# lasso\n",
    "# lambdas = [0.01, 0.05, 0.1, 5, 10, 50, 100]\n",
    "# , alphas=lam, max_iter=100000\n",
    "# for lam in lambdas:\n",
    "lasso = Lasso().fit(X_train3, y_train)\n",
    "print(lasso.score(X_train3, y_train))\n",
    "print(lasso.score(X_test3, y_test))"
   ]
  },
  {
   "cell_type": "markdown",
   "metadata": {},
   "source": [
    "Can try other models for classifying later ... if want to look at a different problem"
   ]
  },
  {
   "cell_type": "markdown",
   "metadata": {},
   "source": [
    "Logistic Regression\n",
    "\n",
    "- could look at misclassification rate for logistic vs linear"
   ]
  },
  {
   "cell_type": "code",
   "execution_count": 309,
   "metadata": {},
   "outputs": [
    {
     "name": "stdout",
     "output_type": "stream",
     "text": [
      "0.9019607843137255\n",
      "0.935064935064935\n"
     ]
    }
   ],
   "source": [
    "logreg = LogisticRegression(solver = 'lbfgs', max_iter=100000).fit(X_train3, y_train)\n",
    "print(logreg.score(X_train3, y_train))\n",
    "print(logreg.score(X_test3, y_test))\n",
    "log_pred_train = logreg.predict_proba(X_train3)\n",
    "log_pred_test = logreg.predict_proba(X_test3)"
   ]
  },
  {
   "cell_type": "code",
   "execution_count": 310,
   "metadata": {},
   "outputs": [
    {
     "data": {
      "text/plain": [
       "((612, 9), (154, 9))"
      ]
     },
     "execution_count": 310,
     "metadata": {},
     "output_type": "execute_result"
    }
   ],
   "source": [
    "X_train.shape, X_test.shape"
   ]
  },
  {
   "cell_type": "code",
   "execution_count": 311,
   "metadata": {},
   "outputs": [
    {
     "data": {
      "image/png": "[encoded data removed]",
      "text/plain": [
       "<Figure size 432x288 with 1 Axes>"
      ]
     },
     "metadata": {
      "needs_background": "light"
     },
     "output_type": "display_data"
    }
   ],
   "source": [
    "plt.scatter(np.arange(X_train.shape[0]), y_train)\n",
    "plt.scatter(np.arange(X_train.shape[0]), np.sort(log_pred_train[:,0]))\n",
    "plt.show()"
   ]
  },
  {
   "cell_type": "code",
   "execution_count": 312,
   "metadata": {},
   "outputs": [
    {
     "data": {
      "image/png": "[encoded data removed]",
      "text/plain": [
       "<Figure size 432x288 with 1 Axes>"
      ]
     },
     "metadata": {
      "needs_background": "light"
     },
     "output_type": "display_data"
    }
   ],
   "source": [
    "plt.scatter(np.arange(X_test.shape[0]), y_test)\n",
    "plt.scatter(np.arange(X_test.shape[0]), np.sort(log_pred_test[:,0]))\n",
    "plt.show()"
   ]
  },
  {
   "cell_type": "markdown",
   "metadata": {},
   "source": [
    "# Sleep"
   ]
  },
  {
   "cell_type": "code",
   "execution_count": 363,
   "metadata": {},
   "outputs": [
    {
     "data": {
      "text/html": [
       "<div>\n",
       "<style scoped>\n",
       "    .dataframe tbody tr th:only-of-type {\n",
       "        vertical-align: middle;\n",
       "    }\n",
       "\n",
       "    .dataframe tbody tr th {\n",
       "        vertical-align: top;\n",
       "    }\n",
       "\n",
       "    .dataframe thead th {\n",
       "        text-align: right;\n",
       "    }\n",
       "</style>\n",
       "<table border=\"1\" class=\"dataframe\">\n",
       "  <thead>\n",
       "    <tr style=\"text-align: right;\">\n",
       "      <th></th>\n",
       "      <th>day</th>\n",
       "      <th>hour</th>\n",
       "      <th>month</th>\n",
       "      <th>weekday</th>\n",
       "      <th>avg_hrly_hum</th>\n",
       "      <th>avg_hrly_temp</th>\n",
       "      <th>avg_hrly_press</th>\n",
       "      <th>tot_motion_count</th>\n",
       "      <th>avg_hrly_light</th>\n",
       "      <th>num_hrs_slept</th>\n",
       "      <th>num_psets_due</th>\n",
       "    </tr>\n",
       "  </thead>\n",
       "  <tbody>\n",
       "    <tr>\n",
       "      <th>0</th>\n",
       "      <td>23</td>\n",
       "      <td>8</td>\n",
       "      <td>10</td>\n",
       "      <td>2</td>\n",
       "      <td>51.35</td>\n",
       "      <td>22.80</td>\n",
       "      <td>100858.130</td>\n",
       "      <td>0.0</td>\n",
       "      <td>4095.00</td>\n",
       "      <td>6.46</td>\n",
       "      <td>3</td>\n",
       "    </tr>\n",
       "    <tr>\n",
       "      <th>1</th>\n",
       "      <td>29</td>\n",
       "      <td>22</td>\n",
       "      <td>10</td>\n",
       "      <td>1</td>\n",
       "      <td>54.20</td>\n",
       "      <td>20.50</td>\n",
       "      <td>102802.440</td>\n",
       "      <td>57.0</td>\n",
       "      <td>2155.50</td>\n",
       "      <td>6.90</td>\n",
       "      <td>0</td>\n",
       "    </tr>\n",
       "    <tr>\n",
       "      <th>2</th>\n",
       "      <td>29</td>\n",
       "      <td>23</td>\n",
       "      <td>10</td>\n",
       "      <td>1</td>\n",
       "      <td>62.25</td>\n",
       "      <td>19.80</td>\n",
       "      <td>102801.110</td>\n",
       "      <td>26.0</td>\n",
       "      <td>3780.75</td>\n",
       "      <td>6.90</td>\n",
       "      <td>0</td>\n",
       "    </tr>\n",
       "    <tr>\n",
       "      <th>3</th>\n",
       "      <td>30</td>\n",
       "      <td>0</td>\n",
       "      <td>10</td>\n",
       "      <td>2</td>\n",
       "      <td>65.15</td>\n",
       "      <td>20.15</td>\n",
       "      <td>102810.425</td>\n",
       "      <td>0.0</td>\n",
       "      <td>4095.00</td>\n",
       "      <td>6.46</td>\n",
       "      <td>1</td>\n",
       "    </tr>\n",
       "    <tr>\n",
       "      <th>4</th>\n",
       "      <td>30</td>\n",
       "      <td>1</td>\n",
       "      <td>10</td>\n",
       "      <td>2</td>\n",
       "      <td>62.20</td>\n",
       "      <td>20.40</td>\n",
       "      <td>102802.390</td>\n",
       "      <td>0.0</td>\n",
       "      <td>4095.00</td>\n",
       "      <td>6.46</td>\n",
       "      <td>1</td>\n",
       "    </tr>\n",
       "  </tbody>\n",
       "</table>\n",
       "</div>"
      ],
      "text/plain": [
       "   day  hour  month  weekday  avg_hrly_hum  avg_hrly_temp  avg_hrly_press  \\\n",
       "0   23     8     10        2         51.35          22.80      100858.130   \n",
       "1   29    22     10        1         54.20          20.50      102802.440   \n",
       "2   29    23     10        1         62.25          19.80      102801.110   \n",
       "3   30     0     10        2         65.15          20.15      102810.425   \n",
       "4   30     1     10        2         62.20          20.40      102802.390   \n",
       "\n",
       "   tot_motion_count  avg_hrly_light  num_hrs_slept  num_psets_due  \n",
       "0               0.0         4095.00           6.46              3  \n",
       "1              57.0         2155.50           6.90              0  \n",
       "2              26.0         3780.75           6.90              0  \n",
       "3               0.0         4095.00           6.46              1  \n",
       "4               0.0         4095.00           6.46              1  "
      ]
     },
     "execution_count": 363,
     "metadata": {},
     "output_type": "execute_result"
    }
   ],
   "source": [
    "df.head()"
   ]
  },
  {
   "cell_type": "code",
   "execution_count": 388,
   "metadata": {},
   "outputs": [],
   "source": [
    "sleep_scores = []\n",
    "for i in range(df.shape[0]):\n",
    "    if (df.loc[i,'num_hrs_slept'] >= 7) and (df.loc[i,'num_hrs_slept'] <= 9):\n",
    "        sleep_scores.append(1)\n",
    "    else:\n",
    "        sleep_scores.append(0)\n",
    "df['sleep_score'] = sleep_scores\n",
    "train_data, test_data = train_test_split(df, test_size=0.2)"
   ]
  },
  {
   "cell_type": "code",
   "execution_count": 389,
   "metadata": {},
   "outputs": [],
   "source": [
    "cols_to_scale3 = ['avg_hrly_hum', 'avg_hrly_light', 'avg_hrly_press', 'tot_motion_count', 'avg_hrly_temp']\n",
    "X_train = train_data.drop(columns=['num_hrs_slept', 'sleep_score'])\n",
    "y_train = train_data['sleep_score']\n",
    "X_test = test_data.drop(columns=['num_hrs_slept', 'sleep_score'])\n",
    "y_test = test_data['sleep_score']\n",
    "\n",
    "X_train4, X_test4 = scale(X_train, X_test, y_train, y_test, cols_to_scale3)"
   ]
  },
  {
   "cell_type": "code",
   "execution_count": 393,
   "metadata": {},
   "outputs": [
    {
     "name": "stdout",
     "output_type": "stream",
     "text": [
      "0.09019025776714185\n",
      "0.06891739385917772\n"
     ]
    }
   ],
   "source": [
    "# linear\n",
    "model = LinearRegression().fit(X_train4, y_train) #['tot_motion_count'].values.reshape(-1,1)\n",
    "print(model.score(X_train4, y_train))\n",
    "print(model.score(X_test4, y_test))\n",
    "# lin_pred_train = model.predict(X_train4['tot_motion_count'])\n",
    "# lin_pred_test = model.predict(X_test4['tot_motion_count'])"
   ]
  },
  {
   "cell_type": "code",
   "execution_count": 374,
   "metadata": {},
   "outputs": [
    {
     "data": {
      "image/png": "[encoded data removed]",
      "text/plain": [
       "<Figure size 432x288 with 1 Axes>"
      ]
     },
     "metadata": {
      "needs_background": "light"
     },
     "output_type": "display_data"
    }
   ],
   "source": [
    "plt.scatter(X_train4['avg_hrly_temp'], X_train4['avg_hrly_hum'])\n",
    "plt.xlabel(\"temp\")\n",
    "plt.ylabel(\"light\")\n",
    "plt.show()"
   ]
  },
  {
   "cell_type": "markdown",
   "metadata": {},
   "source": [
    "Logistic Regression"
   ]
  },
  {
   "cell_type": "code",
   "execution_count": 394,
   "metadata": {},
   "outputs": [
    {
     "name": "stdout",
     "output_type": "stream",
     "text": [
      "0.7189542483660131\n",
      "0.6753246753246753\n"
     ]
    }
   ],
   "source": [
    "logreg_sleep = LogisticRegression(solver = 'lbfgs', max_iter=100000).fit(X_train4, y_train)\n",
    "print(logreg_sleep.score(X_train4, y_train))\n",
    "print(logreg_sleep.score(X_test4, y_test))\n",
    "# log_pred_train = logreg.predict_proba(X_train3)\n",
    "# log_pred_test = logreg.predict_proba(X_test3)"
   ]
  },
  {
   "cell_type": "markdown",
   "metadata": {},
   "source": [
    "Decision Tree"
   ]
  },
  {
   "cell_type": "code",
   "execution_count": null,
   "metadata": {},
   "outputs": [],
   "source": []
  }
 ],
 "metadata": {
  "kernelspec": {
   "display_name": "Python 3",
   "language": "python",
   "name": "python3"
  },
  "language_info": {
   "codemirror_mode": {
    "name": "ipython",
    "version": 3
   },
   "file_extension": ".py",
   "mimetype": "text/x-python",
   "name": "python",
   "nbconvert_exporter": "python",
   "pygments_lexer": "ipython3",
   "version": "3.6.9"
  }
 },
 "nbformat": 4,
 "nbformat_minor": 2
}
