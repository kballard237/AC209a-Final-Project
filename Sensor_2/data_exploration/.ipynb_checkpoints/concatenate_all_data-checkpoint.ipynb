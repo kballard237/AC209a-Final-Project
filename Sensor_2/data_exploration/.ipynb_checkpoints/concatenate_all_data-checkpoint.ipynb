{
 "cells": [
  {
   "cell_type": "code",
   "execution_count": 1,
   "metadata": {},
   "outputs": [],
   "source": [
    "import pandas as pd\n",
    "import numpy as np\n",
    "from matplotlib import pyplot as plt"
   ]
  },
  {
   "cell_type": "code",
   "execution_count": 7,
   "metadata": {},
   "outputs": [],
   "source": [
    "hum = pd.read_csv(\"humidity_df.csv\").drop(columns=['Unnamed: 0'])\n",
    "temp = pd.read_csv(\"temp_df.csv\").drop(columns=['Unnamed: 0'])\n",
    "press = pd.read_csv(\"pressure_df.csv\").drop(columns=['Unnamed: 0'])\n",
    "motion = pd.read_csv(\"motion_df.csv\").drop(columns=['Unnamed: 0'])\n",
    "light = pd.read_csv(\"light_df.csv\").drop(columns=['Unnamed: 0'])"
   ]
  },
  {
   "cell_type": "code",
   "execution_count": 8,
   "metadata": {},
   "outputs": [
    {
     "name": "stdout",
     "output_type": "stream",
     "text": [
      "Index(['day', 'hour', 'month', 'avg_hrly_hum'], dtype='object') (722, 4)\n",
      "Index(['month', 'day', 'hour', 'avg_hrly_temp'], dtype='object') (722, 4)\n",
      "Index(['month', 'day', 'hour', 'avg_hrly_press'], dtype='object') (722, 4)\n",
      "Index(['month', 'day', 'hour', 'tot_motion_count'], dtype='object') (668, 4)\n",
      "Index(['month', 'day', 'hour', 'avg_hrly_light'], dtype='object') (703, 4)\n"
     ]
    }
   ],
   "source": [
    "data = [hum, temp, press, motion, light]\n",
    "for i in data:\n",
    "    print(i.columns, i.shape)"
   ]
  },
  {
   "cell_type": "code",
   "execution_count": 12,
   "metadata": {},
   "outputs": [],
   "source": [
    "df1 = hum.merge(temp, left_on=['day', 'hour', 'month'], right_on=['day', 'hour', 'month'])\n",
    "df2 = df1.merge(press, left_on=['day', 'hour', 'month'], right_on=['day', 'hour', 'month'])\n",
    "df3 = df2.merge(motion, left_on=['day', 'hour', 'month'], right_on=['day', 'hour', 'month'])\n",
    "df4 = df3.merge(light, left_on=['day', 'hour', 'month'], right_on=['day', 'hour', 'month'])"
   ]
  },
  {
   "cell_type": "code",
   "execution_count": 14,
   "metadata": {},
   "outputs": [],
   "source": [
    "df4.to_csv(\"all_sensor_data.csv\")"
   ]
  },
  {
   "cell_type": "code",
   "execution_count": null,
   "metadata": {},
   "outputs": [],
   "source": []
  }
 ],
 "metadata": {
  "kernelspec": {
   "display_name": "Python 3",
   "language": "python",
   "name": "python3"
  },
  "language_info": {
   "codemirror_mode": {
    "name": "ipython",
    "version": 3
   },
   "file_extension": ".py",
   "mimetype": "text/x-python",
   "name": "python",
   "nbconvert_exporter": "python",
   "pygments_lexer": "ipython3",
   "version": "3.6.9"
  }
 },
 "nbformat": 4,
 "nbformat_minor": 2
}
