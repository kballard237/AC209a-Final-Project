{
 "cells": [
  {
   "cell_type": "code",
   "execution_count": 1,
   "metadata": {},
   "outputs": [],
   "source": [
    "import pandas as pd\n",
    "import numpy as np\n",
    "from matplotlib import pyplot as plt"
   ]
  },
  {
   "cell_type": "code",
   "execution_count": 2,
   "metadata": {},
   "outputs": [],
   "source": [
    "df = pd.read_csv(\"all_sensor_data.csv\").drop(columns=['Unnamed: 0'])"
   ]
  },
  {
   "cell_type": "code",
   "execution_count": 3,
   "metadata": {},
   "outputs": [],
   "source": [
    "psets_due = {'Oct23':3,'Oct24':1,'Oct25':1,'Oct30':2,'Nov2':1,'Nov5':1,'Nov6':2,\n",
    "        'Nov7':1,'Nov8':1,'Nov9':1,'Nov13':1, 'Nov16':1,'Nov15':1,'Nov20':1,\n",
    "        'Nov21':1,'Nov23':1,'Nov26':1,'Nov30':1,'Dec3':2,'Dec4':1,'Dec5':1}"
   ]
  },
  {
   "cell_type": "code",
   "execution_count": 4,
   "metadata": {},
   "outputs": [
    {
     "name": "stderr",
     "output_type": "stream",
     "text": [
      "/Users/kaelanelson/anaconda/lib/python3.6/site-packages/ipykernel_launcher.py:11: FutureWarning: set_value is deprecated and will be removed in a future release. Please use .at[] or .iat[] accessors instead\n",
      "  # This is added back by InteractiveShellApp.init_path()\n"
     ]
    }
   ],
   "source": [
    "def add_psets(df_old):\n",
    "    df_old['num_psets_due'] = 0\n",
    "\n",
    "    month = [10,10,10,10,11,11,11,11,11,11,11,11,11,11,11,11,11,11,12,12,12]\n",
    "    day = [23,24,25,30,2,5,6,7,8,9,13,16,15,20,21,23,26,30,3,4,5]\n",
    "    num_psets = [3,1,1,2,1,1,2,1,1,1,1,1,1,1,1,1,1,1,2,1,1]\n",
    "\n",
    "    df = df_old.copy()\n",
    "    for m,d,p in zip(month, day, num_psets):\n",
    "        if df[(df['month']==m) & (df['day']==d)].shape[0] != 0:\n",
    "            df.set_value((df['month']==m) & (df['day']==d), 'num_psets_due', p)\n",
    "    \n",
    "    return df\n",
    "\n",
    "new_df = add_psets(df)"
   ]
  },
  {
   "cell_type": "code",
   "execution_count": 68,
   "metadata": {},
   "outputs": [],
   "source": [
    "new_df.to_csv(\"all_data.csv\")"
   ]
  }
 ],
 "metadata": {
  "kernelspec": {
   "display_name": "Python 3",
   "language": "python",
   "name": "python3"
  },
  "language_info": {
   "codemirror_mode": {
    "name": "ipython",
    "version": 3
   },
   "file_extension": ".py",
   "mimetype": "text/x-python",
   "name": "python",
   "nbconvert_exporter": "python",
   "pygments_lexer": "ipython3",
   "version": "3.6.9"
  }
 },
 "nbformat": 4,
 "nbformat_minor": 2
}
