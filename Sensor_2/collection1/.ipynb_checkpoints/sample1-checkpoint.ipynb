{
 "cells": [
  {
   "cell_type": "markdown",
   "metadata": {},
   "source": [
    "**Environment Project A**\n",
    "\n",
    "**Group Members:** Kyra Ballard, Lauren Baker, Kaela Nelson"
   ]
  },
  {
   "cell_type": "code",
   "execution_count": 42,
   "metadata": {},
   "outputs": [],
   "source": [
    "import numpy as np\n",
    "import pandas as pd\n",
    "import os\n",
    "import datetime"
   ]
  },
  {
   "cell_type": "code",
   "execution_count": 6,
   "metadata": {},
   "outputs": [],
   "source": [
    "def read_txt(filename):\n",
    "    save_ls = []\n",
    "    with open(filename, 'r') as file:\n",
    "        for line in file:\n",
    "            line = line.split(',')\n",
    "            for val in line:\n",
    "                save_ls.append(val)\n",
    "    return save_ls"
   ]
  },
  {
   "cell_type": "code",
   "execution_count": 7,
   "metadata": {},
   "outputs": [],
   "source": [
    "# read in sensor data\n",
    "hum = read_txt('CS109a_humidity.txt')\n",
    "light = read_txt('CS109a_light.txt')\n",
    "motion = read_txt('CS109a_motion.txt')\n",
    "pressure = read_txt('CS109a_pressure.txt')\n",
    "temp = read_txt('CS109a_temperature.txt')"
   ]
  },
  {
   "cell_type": "code",
   "execution_count": 78,
   "metadata": {},
   "outputs": [],
   "source": [
    "# generate times (every 30 minutes) from initial start date\n",
    "oct23 = datetime.datetime(2019, 10, 23, hour=8, minute=16)\n",
    "dates = [oct23]\n",
    "for i in range(73): \n",
    "    dates.append(dates[i] + datetime.timedelta(minutes=30))"
   ]
  },
  {
   "cell_type": "code",
   "execution_count": 80,
   "metadata": {},
   "outputs": [],
   "source": [
    "# create dataframe of variables\n",
    "df = pd.DataFrame({'date': dates,'temp': temp, 'hum': hum, 'press': pressure, 'light': light,\n",
    "                   'motion': motion})\n",
    "# drop last empty row\n",
    "df.drop(df.tail(1).index,inplace=True)"
   ]
  },
  {
   "cell_type": "code",
   "execution_count": 82,
   "metadata": {},
   "outputs": [
    {
     "data": {
      "text/html": [
       "<div>\n",
       "<style>\n",
       "    .dataframe thead tr:only-child th {\n",
       "        text-align: right;\n",
       "    }\n",
       "\n",
       "    .dataframe thead th {\n",
       "        text-align: left;\n",
       "    }\n",
       "\n",
       "    .dataframe tbody tr th {\n",
       "        vertical-align: top;\n",
       "    }\n",
       "</style>\n",
       "<table border=\"1\" class=\"dataframe\">\n",
       "  <thead>\n",
       "    <tr style=\"text-align: right;\">\n",
       "      <th></th>\n",
       "      <th>date</th>\n",
       "      <th>hum</th>\n",
       "      <th>light</th>\n",
       "      <th>motion</th>\n",
       "      <th>press</th>\n",
       "      <th>temp</th>\n",
       "    </tr>\n",
       "  </thead>\n",
       "  <tbody>\n",
       "    <tr>\n",
       "      <th>0</th>\n",
       "      <td>2019-10-23 08:16:00</td>\n",
       "      <td>51.40</td>\n",
       "      <td>4095.00</td>\n",
       "      <td>0.00</td>\n",
       "      <td>100852.74</td>\n",
       "      <td>23.40</td>\n",
       "    </tr>\n",
       "    <tr>\n",
       "      <th>1</th>\n",
       "      <td>2019-10-23 08:46:00</td>\n",
       "      <td>51.30</td>\n",
       "      <td>4095.00</td>\n",
       "      <td>0.00</td>\n",
       "      <td>100863.52</td>\n",
       "      <td>22.20</td>\n",
       "    </tr>\n",
       "    <tr>\n",
       "      <th>2</th>\n",
       "      <td>2019-10-23 09:16:00</td>\n",
       "      <td>51.40</td>\n",
       "      <td>4095.00</td>\n",
       "      <td>0.00</td>\n",
       "      <td>100934.15</td>\n",
       "      <td>22.10</td>\n",
       "    </tr>\n",
       "    <tr>\n",
       "      <th>3</th>\n",
       "      <td>2019-10-23 09:46:00</td>\n",
       "      <td>50.60</td>\n",
       "      <td>4095.00</td>\n",
       "      <td>0.00</td>\n",
       "      <td>100909.61</td>\n",
       "      <td>21.90</td>\n",
       "    </tr>\n",
       "    <tr>\n",
       "      <th>4</th>\n",
       "      <td>2019-10-23 10:16:00</td>\n",
       "      <td>50.60</td>\n",
       "      <td>4095.00</td>\n",
       "      <td>0.00</td>\n",
       "      <td>100981.50</td>\n",
       "      <td>21.80</td>\n",
       "    </tr>\n",
       "  </tbody>\n",
       "</table>\n",
       "</div>"
      ],
      "text/plain": [
       "                 date    hum    light motion      press   temp\n",
       "0 2019-10-23 08:16:00  51.40  4095.00   0.00  100852.74  23.40\n",
       "1 2019-10-23 08:46:00  51.30  4095.00   0.00  100863.52  22.20\n",
       "2 2019-10-23 09:16:00  51.40  4095.00   0.00  100934.15  22.10\n",
       "3 2019-10-23 09:46:00  50.60  4095.00   0.00  100909.61  21.90\n",
       "4 2019-10-23 10:16:00  50.60  4095.00   0.00  100981.50  21.80"
      ]
     },
     "execution_count": 82,
     "metadata": {},
     "output_type": "execute_result"
    }
   ],
   "source": [
    "# sneak peak of data\n",
    "df.head()"
   ]
  }
 ],
 "metadata": {
  "kernelspec": {
   "display_name": "Python 3",
   "language": "python",
   "name": "python3"
  },
  "language_info": {
   "codemirror_mode": {
    "name": "ipython",
    "version": 3
   },
   "file_extension": ".py",
   "mimetype": "text/x-python",
   "name": "python",
   "nbconvert_exporter": "python",
   "pygments_lexer": "ipython3",
   "version": "3.6.1"
  }
 },
 "nbformat": 4,
 "nbformat_minor": 2
}
